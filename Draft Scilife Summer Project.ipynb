{
 "cells": [
  {
   "cell_type": "markdown",
   "metadata": {},
   "source": [
    "# Scilife Summer Project in Environmental Genomics\n",
    "Summer project with the Envgen group at Science for life laboratory\n",
    "\n",
    "\n",
    "In this project I will be working with the following data files supplied by Anders Andersson:\n",
    "\n",
    "(root paths)\n",
    "\n",
    "**General data file featuring Metatranscriptomic data such as MAGS, samples and genes**\n",
    "\n",
    "./data/ryno_project/P3764_P1456.LMO.indiv.MAGs.merged.raw_counts.tsv\n",
    "./data/ryno_project/.~lock.P3764_P1456.LMO.indiv.MAGs.merged.raw_counts.tsv\n",
    "\n",
    "**The environmental metadata for the LMO station at the time of sampling**\n",
    "./data/ryno_project/LMO_time_series_Metadata_to_Barbel_mod.txt\n",
    "\n",
    "\n",
    "./data/ryno_project/AF2-SCG present in each bin.tsv\n",
    "\n",
    "\n",
    "\n",
    "\n",
    "./data/ryno_project/reference_genomes.xlsx\n",
    "\n",
    "**The annotated genes and the corresponding gene ID tags from the COG, EC, Pfam and TIGRFAM database:**\n",
    "./data/ryno_project/LMO.indiv.MAGs.merged.COG.tsv\n",
    "./data/ryno_project/LMO.indiv.MAGs.merged.EC.tsv\n",
    "./data/ryno_project/LMO.indiv.MAGs.merged.PFAM.tsv\n",
    "./data/ryno_project/LMO.indiv.MAGs.merged.TIGRFAM.tsv\n"
   ]
  },
  {
   "cell_type": "code",
   "execution_count": 3,
   "metadata": {
    "collapsed": false
   },
   "outputs": [
    {
     "data": {
      "text/plain": [
       "'/home/ryno/Documents/projects/scilife_project'"
      ]
     },
     "execution_count": 3,
     "metadata": {},
     "output_type": "execute_result"
    }
   ],
   "source": [
    "pwd"
   ]
  },
  {
   "cell_type": "markdown",
   "metadata": {},
   "source": [
    "## Creating a sample list "
   ]
  },
  {
   "cell_type": "code",
   "execution_count": 36,
   "metadata": {
    "collapsed": false
   },
   "outputs": [
    {
     "name": "stdout",
     "output_type": "stream",
     "text": [
      "['120516', '120613', '120712', '120813', '120927', '121024', '121220', '130123', '130226', '130403', '130416', '130422', '130507', '130605', '130705', '130815', '130905', '131003', '140408', '140506', '140604', '140709', '140820', '140916', '141013']\n"
     ]
    }
   ],
   "source": [
    "#Parsing of this file\n",
    "#./data/ryno_project/P3764_P1456.LMO.indiv.MAGs.merged.raw_counts.tsv\n",
    "#../data/ryno_project/P3764_P1456.LMO.indiv.MAGs.merged.raw_counts.tsv\n",
    "\n",
    "sample_list= []\n",
    "f = open('./data/ryno_project/P3764_P1456.LMO.indiv.MAGs.merged.raw_counts.tsv', 'r+')\n",
    "#print(f)\n",
    "fall = f.readlines()\n",
    "fline= f.readline()\n",
    "fline= fline.split()\n",
    "for i in fline:\n",
    "    #print(i)\n",
    "    sample_list.append(i)\n",
    "print(sample_list[2::])"
   ]
  },
  {
   "cell_type": "code",
   "execution_count": null,
   "metadata": {
    "collapsed": true
   },
   "outputs": [],
   "source": []
  },
  {
   "cell_type": "code",
   "execution_count": 28,
   "metadata": {
    "collapsed": false
   },
   "outputs": [
    {
     "data": {
      "application/json": {
       "cell": {
        "!": "OSMagics",
        "HTML": "Other",
        "SVG": "Other",
        "bash": "Other",
        "capture": "ExecutionMagics",
        "debug": "ExecutionMagics",
        "file": "Other",
        "html": "DisplayMagics",
        "javascript": "DisplayMagics",
        "js": "DisplayMagics",
        "latex": "DisplayMagics",
        "perl": "Other",
        "prun": "ExecutionMagics",
        "pypy": "Other",
        "python": "Other",
        "python2": "Other",
        "python3": "Other",
        "ruby": "Other",
        "script": "ScriptMagics",
        "sh": "Other",
        "svg": "DisplayMagics",
        "sx": "OSMagics",
        "system": "OSMagics",
        "time": "ExecutionMagics",
        "timeit": "ExecutionMagics",
        "writefile": "OSMagics"
       },
       "line": {
        "alias": "OSMagics",
        "alias_magic": "BasicMagics",
        "autocall": "AutoMagics",
        "automagic": "AutoMagics",
        "autosave": "KernelMagics",
        "bookmark": "OSMagics",
        "cat": "Other",
        "cd": "OSMagics",
        "clear": "KernelMagics",
        "colors": "BasicMagics",
        "config": "ConfigMagics",
        "connect_info": "KernelMagics",
        "cp": "Other",
        "debug": "ExecutionMagics",
        "dhist": "OSMagics",
        "dirs": "OSMagics",
        "doctest_mode": "BasicMagics",
        "ed": "Other",
        "edit": "KernelMagics",
        "env": "OSMagics",
        "gui": "BasicMagics",
        "hist": "Other",
        "history": "HistoryMagics",
        "killbgscripts": "ScriptMagics",
        "ldir": "Other",
        "less": "KernelMagics",
        "lf": "Other",
        "lk": "Other",
        "ll": "Other",
        "load": "CodeMagics",
        "load_ext": "ExtensionMagics",
        "loadpy": "CodeMagics",
        "logoff": "LoggingMagics",
        "logon": "LoggingMagics",
        "logstart": "LoggingMagics",
        "logstate": "LoggingMagics",
        "logstop": "LoggingMagics",
        "ls": "Other",
        "lsmagic": "BasicMagics",
        "lx": "Other",
        "macro": "ExecutionMagics",
        "magic": "BasicMagics",
        "man": "KernelMagics",
        "matplotlib": "PylabMagics",
        "mkdir": "Other",
        "more": "KernelMagics",
        "mv": "Other",
        "notebook": "BasicMagics",
        "page": "BasicMagics",
        "pastebin": "CodeMagics",
        "pdb": "ExecutionMagics",
        "pdef": "NamespaceMagics",
        "pdoc": "NamespaceMagics",
        "pfile": "NamespaceMagics",
        "pinfo": "NamespaceMagics",
        "pinfo2": "NamespaceMagics",
        "popd": "OSMagics",
        "pprint": "BasicMagics",
        "precision": "BasicMagics",
        "profile": "BasicMagics",
        "prun": "ExecutionMagics",
        "psearch": "NamespaceMagics",
        "psource": "NamespaceMagics",
        "pushd": "OSMagics",
        "pwd": "OSMagics",
        "pycat": "OSMagics",
        "pylab": "PylabMagics",
        "qtconsole": "KernelMagics",
        "quickref": "BasicMagics",
        "recall": "HistoryMagics",
        "rehashx": "OSMagics",
        "reload_ext": "ExtensionMagics",
        "rep": "Other",
        "rerun": "HistoryMagics",
        "reset": "NamespaceMagics",
        "reset_selective": "NamespaceMagics",
        "rm": "Other",
        "rmdir": "Other",
        "run": "ExecutionMagics",
        "save": "CodeMagics",
        "sc": "OSMagics",
        "set_env": "OSMagics",
        "store": "StoreMagics",
        "sx": "OSMagics",
        "system": "OSMagics",
        "tb": "ExecutionMagics",
        "time": "ExecutionMagics",
        "timeit": "ExecutionMagics",
        "unalias": "OSMagics",
        "unload_ext": "ExtensionMagics",
        "who": "NamespaceMagics",
        "who_ls": "NamespaceMagics",
        "whos": "NamespaceMagics",
        "xdel": "NamespaceMagics",
        "xmode": "BasicMagics"
       }
      },
      "text/plain": [
       "Available line magics:\n",
       "%alias  %alias_magic  %autocall  %automagic  %autosave  %bookmark  %cat  %cd  %clear  %colors  %config  %connect_info  %cp  %debug  %dhist  %dirs  %doctest_mode  %ed  %edit  %env  %gui  %hist  %history  %killbgscripts  %ldir  %less  %lf  %lk  %ll  %load  %load_ext  %loadpy  %logoff  %logon  %logstart  %logstate  %logstop  %ls  %lsmagic  %lx  %macro  %magic  %man  %matplotlib  %mkdir  %more  %mv  %notebook  %page  %pastebin  %pdb  %pdef  %pdoc  %pfile  %pinfo  %pinfo2  %popd  %pprint  %precision  %profile  %prun  %psearch  %psource  %pushd  %pwd  %pycat  %pylab  %qtconsole  %quickref  %recall  %rehashx  %reload_ext  %rep  %rerun  %reset  %reset_selective  %rm  %rmdir  %run  %save  %sc  %set_env  %store  %sx  %system  %tb  %time  %timeit  %unalias  %unload_ext  %who  %who_ls  %whos  %xdel  %xmode\n",
       "\n",
       "Available cell magics:\n",
       "%%!  %%HTML  %%SVG  %%bash  %%capture  %%debug  %%file  %%html  %%javascript  %%js  %%latex  %%perl  %%prun  %%pypy  %%python  %%python2  %%python3  %%ruby  %%script  %%sh  %%svg  %%sx  %%system  %%time  %%timeit  %%writefile\n",
       "\n",
       "Automagic is ON, % prefix IS NOT needed for line magics."
      ]
     },
     "execution_count": 28,
     "metadata": {},
     "output_type": "execute_result"
    }
   ],
   "source": [
    "%lsmagic"
   ]
  },
  {
   "cell_type": "markdown",
   "metadata": {},
   "source": [
    "# Readlines"
   ]
  },
  {
   "cell_type": "code",
   "execution_count": null,
   "metadata": {
    "collapsed": true
   },
   "outputs": [],
   "source": []
  },
  {
   "cell_type": "code",
   "execution_count": 2,
   "metadata": {
    "collapsed": false
   },
   "outputs": [
    {
     "name": "stdout",
     "output_type": "stream",
     "text": [
      "['MAG\\tGene\\t120516\\t120613\\t120712\\t120813\\t120927\\t121024\\t121220\\t130123\\t130226\\t130403\\t130416\\t130422\\t130507\\t130605\\t130705\\t130815\\t130905\\t131003\\t140408\\t140506\\t140604\\t140709\\t140820\\t140916\\t141013\\n', '120619-bin32\\tPROKKA_MOD_00689\\t0\\t11\\t25\\t1\\t3\\t1\\t0\\t0\\t4\\t0\\t23\\t6\\t32\\t23\\t1\\t0\\t0\\t0\\t0\\t0\\t9\\t126\\t3\\t4\\t0\\n', '120619-bin32\\tPROKKA_MOD_00688\\t0\\t2\\t17\\t0\\t1\\t1\\t0\\t4\\t7\\t0\\t3\\t8\\t18\\t11\\t5\\t0\\t0\\t0\\t0\\t0\\t1\\t51\\t0\\t0\\t0\\n']\n"
     ]
    }
   ],
   "source": [
    "sample_list= []\n",
    "f = open('./data/ryno_project/P3764_P1456.LMO.indiv.MAGs.merged.raw_counts.tsv', 'r+')\n",
    "#print(f)\n",
    "alllines = f.readlines()\n",
    "#alllines = alllines.strip()\n",
    "#alllines = alllines.split('\\n')\n",
    "print(alllines[0:3])\n",
    "#for i in range(len(alllines)):\n",
    "\n",
    "#    print(alllines(0:3))"
   ]
  },
  {
   "cell_type": "markdown",
   "metadata": {},
   "source": [
    "# Read"
   ]
  },
  {
   "cell_type": "code",
   "execution_count": 14,
   "metadata": {
    "collapsed": false
   },
   "outputs": [
    {
     "name": "stdout",
     "output_type": "stream",
     "text": [
      "MAG\tGe\n"
     ]
    }
   ],
   "source": [
    "sample_list= []\n",
    "f = open('./data/ryno_project/P3764_P1456.LMO.indiv.MAGs.merged.raw_counts.tsv', 'r+')\n",
    "#print(f)\n",
    "fread = f.read()\n",
    "#alllines = alllines.strip()\n",
    "#alllines = alllines.split('\\n')\n",
    "print(fread[0:6])\n",
    "for i in fread:\n",
    "    print()"
   ]
  }
 ],
 "metadata": {
  "kernelspec": {
   "display_name": "Python 3",
   "language": "python",
   "name": "python3"
  },
  "language_info": {
   "codemirror_mode": {
    "name": "ipython",
    "version": 3
   },
   "file_extension": ".py",
   "mimetype": "text/x-python",
   "name": "python",
   "nbconvert_exporter": "python",
   "pygments_lexer": "ipython3",
   "version": "3.6.0"
  }
 },
 "nbformat": 4,
 "nbformat_minor": 2
}
