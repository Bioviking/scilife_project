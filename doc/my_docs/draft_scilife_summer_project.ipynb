{
 "cells": [
  {
   "cell_type": "markdown",
   "metadata": {},
   "source": [
    "# Scilife Summer Project in Environmental Genomics\n",
    "Summer project with the Envgen group at Science for life laboratory\n",
    "\n",
    "\n",
    "In this project I will be working with the following data files supplied by Anders Andersson:\n",
    "\n",
    "(root paths)\n",
    "\n",
    "** General data file featuring Metatranscriptomic data such as MAGS, samples and genes ** \n",
    "\n",
    "+ *./data/ryno_project/P3764_P1456.LMO.indiv.MAGs.merged.raw_counts.tsv * \n",
    "+ *./data/ryno_project/.~lock.P3764_P1456.LMO.indiv.MAGs.merged.raw_counts.tsv * \n",
    "\n",
    "** The environmental metadata for the LMO station at the time of sampling ** \n",
    "\n",
    "+ *./data/ryno_project/LMO_time_series_Metadata_to_Barbel_mod.txt * \n",
    "+ *./data/ryno_project/AF2-SCG present in each bin.tsv * \n",
    "+ *./data/ryno_project/reference_genomes.xlsx *\n",
    "\n",
    "** The annotated genes and the corresponding gene ID tags from the COG, EC, Pfam and TIGRFAM database: **\n",
    "+ *./data/ryno_project/LMO.indiv.MAGs.merged.COG.tsv *\n",
    "+ *./data/ryno_project/LMO.indiv.MAGs.merged.EC.tsv *\n",
    "+ *./data/ryno_project/LMO.indiv.MAGs.merged.PFAM.tsv *\n",
    "+ *./data/ryno_project/LMO.indiv.MAGs.merged.TIGRFAM.tsv *\n"
   ]
  },
  {
   "cell_type": "code",
   "execution_count": 7,
   "metadata": {
    "collapsed": false
   },
   "outputs": [
    {
     "data": {
      "text/plain": [
       "'C:\\\\Users\\\\Admin\\\\Documents\\\\GitHub\\\\scilife_project\\\\doc\\\\my_docs'"
      ]
     },
     "execution_count": 7,
     "metadata": {},
     "output_type": "execute_result"
    }
   ],
   "source": [
    "pwd"
   ]
  },
  {
   "cell_type": "markdown",
   "metadata": {},
   "source": [
    "** General data file featuring featuring Metatranscriptomic data such as MAGS, samples and genes **\n",
    "\n",
    "+ *./data/ryno_project/P3764_P1456.LMO.indiv.MAGs.merged.raw_counts.tsv*"
   ]
  },
  {
   "cell_type": "markdown",
   "metadata": {},
   "source": [
    "## Creating a sample list "
   ]
  },
  {
   "cell_type": "markdown",
   "metadata": {},
   "source": [
    "Opening file\n",
    "Parsing of this file: *./data/ryno_project/P3764_P1456.LMO.indiv.MAGs.merged.raw_counts.tsv*"
   ]
  },
  {
   "cell_type": "code",
   "execution_count": null,
   "metadata": {
    "collapsed": true
   },
   "outputs": [],
   "source": []
  },
  {
   "cell_type": "markdown",
   "metadata": {},
   "source": [
    "Opening the Individual MAGs raw count File"
   ]
  },
  {
   "cell_type": "code",
   "execution_count": 17,
   "metadata": {
    "collapsed": false
   },
   "outputs": [],
   "source": [
    "import sys\n",
    "sample_list= []\n",
    "f = open('../../data/ryno_project/P3764_P1456.LMO.indiv.MAGs.merged.raw_counts.tsv', 'r+')"
   ]
  },
  {
   "cell_type": "markdown",
   "metadata": {},
   "source": [
    "An example of \"readline\""
   ]
  },
  {
   "cell_type": "code",
   "execution_count": 18,
   "metadata": {
    "collapsed": false
   },
   "outputs": [
    {
     "name": "stdout",
     "output_type": "stream",
     "text": [
      "['MAG', 'Gene', '120516', '120613', '120712', '120813', '120927', '121024', '121220', '130123', '130226', '130403', '130416', '130422', '130507', '130605', '130705', '130815', '130905', '131003', '140408', '140506', '140604', '140709', '140820', '140916', '141013']\n",
      "['120516', '120613', '120712', '120813', '120927', '121024', '121220', '130123', '130226', '130403', '130416', '130422', '130507', '130605', '130705', '130815', '130905', '131003', '140408', '140506', '140604', '140709', '140820', '140916', '141013']\n"
     ]
    }
   ],
   "source": [
    "#print(f)\n",
    "fline= f.readline()\n",
    "fline= fline.split()\n",
    "print(fline)\n",
    "for i in fline:\n",
    "    #print(len(i))\n",
    "    if len(i) == 6:\n",
    "        sample_list.append(i)\n",
    "print(sample_list)"
   ]
  },
  {
   "cell_type": "code",
   "execution_count": null,
   "metadata": {
    "collapsed": true
   },
   "outputs": [],
   "source": []
  },
  {
   "cell_type": "code",
   "execution_count": 28,
   "metadata": {
    "collapsed": false
   },
   "outputs": [
    {
     "data": {
      "application/json": {
       "cell": {
        "!": "OSMagics",
        "HTML": "Other",
        "SVG": "Other",
        "bash": "Other",
        "capture": "ExecutionMagics",
        "debug": "ExecutionMagics",
        "file": "Other",
        "html": "DisplayMagics",
        "javascript": "DisplayMagics",
        "js": "DisplayMagics",
        "latex": "DisplayMagics",
        "perl": "Other",
        "prun": "ExecutionMagics",
        "pypy": "Other",
        "python": "Other",
        "python2": "Other",
        "python3": "Other",
        "ruby": "Other",
        "script": "ScriptMagics",
        "sh": "Other",
        "svg": "DisplayMagics",
        "sx": "OSMagics",
        "system": "OSMagics",
        "time": "ExecutionMagics",
        "timeit": "ExecutionMagics",
        "writefile": "OSMagics"
       },
       "line": {
        "alias": "OSMagics",
        "alias_magic": "BasicMagics",
        "autocall": "AutoMagics",
        "automagic": "AutoMagics",
        "autosave": "KernelMagics",
        "bookmark": "OSMagics",
        "cat": "Other",
        "cd": "OSMagics",
        "clear": "KernelMagics",
        "colors": "BasicMagics",
        "config": "ConfigMagics",
        "connect_info": "KernelMagics",
        "cp": "Other",
        "debug": "ExecutionMagics",
        "dhist": "OSMagics",
        "dirs": "OSMagics",
        "doctest_mode": "BasicMagics",
        "ed": "Other",
        "edit": "KernelMagics",
        "env": "OSMagics",
        "gui": "BasicMagics",
        "hist": "Other",
        "history": "HistoryMagics",
        "killbgscripts": "ScriptMagics",
        "ldir": "Other",
        "less": "KernelMagics",
        "lf": "Other",
        "lk": "Other",
        "ll": "Other",
        "load": "CodeMagics",
        "load_ext": "ExtensionMagics",
        "loadpy": "CodeMagics",
        "logoff": "LoggingMagics",
        "logon": "LoggingMagics",
        "logstart": "LoggingMagics",
        "logstate": "LoggingMagics",
        "logstop": "LoggingMagics",
        "ls": "Other",
        "lsmagic": "BasicMagics",
        "lx": "Other",
        "macro": "ExecutionMagics",
        "magic": "BasicMagics",
        "man": "KernelMagics",
        "matplotlib": "PylabMagics",
        "mkdir": "Other",
        "more": "KernelMagics",
        "mv": "Other",
        "notebook": "BasicMagics",
        "page": "BasicMagics",
        "pastebin": "CodeMagics",
        "pdb": "ExecutionMagics",
        "pdef": "NamespaceMagics",
        "pdoc": "NamespaceMagics",
        "pfile": "NamespaceMagics",
        "pinfo": "NamespaceMagics",
        "pinfo2": "NamespaceMagics",
        "popd": "OSMagics",
        "pprint": "BasicMagics",
        "precision": "BasicMagics",
        "profile": "BasicMagics",
        "prun": "ExecutionMagics",
        "psearch": "NamespaceMagics",
        "psource": "NamespaceMagics",
        "pushd": "OSMagics",
        "pwd": "OSMagics",
        "pycat": "OSMagics",
        "pylab": "PylabMagics",
        "qtconsole": "KernelMagics",
        "quickref": "BasicMagics",
        "recall": "HistoryMagics",
        "rehashx": "OSMagics",
        "reload_ext": "ExtensionMagics",
        "rep": "Other",
        "rerun": "HistoryMagics",
        "reset": "NamespaceMagics",
        "reset_selective": "NamespaceMagics",
        "rm": "Other",
        "rmdir": "Other",
        "run": "ExecutionMagics",
        "save": "CodeMagics",
        "sc": "OSMagics",
        "set_env": "OSMagics",
        "store": "StoreMagics",
        "sx": "OSMagics",
        "system": "OSMagics",
        "tb": "ExecutionMagics",
        "time": "ExecutionMagics",
        "timeit": "ExecutionMagics",
        "unalias": "OSMagics",
        "unload_ext": "ExtensionMagics",
        "who": "NamespaceMagics",
        "who_ls": "NamespaceMagics",
        "whos": "NamespaceMagics",
        "xdel": "NamespaceMagics",
        "xmode": "BasicMagics"
       }
      },
      "text/plain": [
       "Available line magics:\n",
       "%alias  %alias_magic  %autocall  %automagic  %autosave  %bookmark  %cat  %cd  %clear  %colors  %config  %connect_info  %cp  %debug  %dhist  %dirs  %doctest_mode  %ed  %edit  %env  %gui  %hist  %history  %killbgscripts  %ldir  %less  %lf  %lk  %ll  %load  %load_ext  %loadpy  %logoff  %logon  %logstart  %logstate  %logstop  %ls  %lsmagic  %lx  %macro  %magic  %man  %matplotlib  %mkdir  %more  %mv  %notebook  %page  %pastebin  %pdb  %pdef  %pdoc  %pfile  %pinfo  %pinfo2  %popd  %pprint  %precision  %profile  %prun  %psearch  %psource  %pushd  %pwd  %pycat  %pylab  %qtconsole  %quickref  %recall  %rehashx  %reload_ext  %rep  %rerun  %reset  %reset_selective  %rm  %rmdir  %run  %save  %sc  %set_env  %store  %sx  %system  %tb  %time  %timeit  %unalias  %unload_ext  %who  %who_ls  %whos  %xdel  %xmode\n",
       "\n",
       "Available cell magics:\n",
       "%%!  %%HTML  %%SVG  %%bash  %%capture  %%debug  %%file  %%html  %%javascript  %%js  %%latex  %%perl  %%prun  %%pypy  %%python  %%python2  %%python3  %%ruby  %%script  %%sh  %%svg  %%sx  %%system  %%time  %%timeit  %%writefile\n",
       "\n",
       "Automagic is ON, % prefix IS NOT needed for line magics."
      ]
     },
     "execution_count": 28,
     "metadata": {},
     "output_type": "execute_result"
    }
   ],
   "source": [
    "%lsmagic"
   ]
  },
  {
   "cell_type": "code",
   "execution_count": 3,
   "metadata": {
    "collapsed": false
   },
   "outputs": [
    {
     "name": "stderr",
     "output_type": "stream",
     "text": [
      "UsageError: %%bash is a cell magic, but the cell body is empty.\n"
     ]
    }
   ],
   "source": [
    "%%bash PS1='$'"
   ]
  },
  {
   "cell_type": "markdown",
   "metadata": {},
   "source": [
    "# Readlines"
   ]
  },
  {
   "cell_type": "code",
   "execution_count": 36,
   "metadata": {
    "collapsed": true
   },
   "outputs": [],
   "source": [
    "import sys\n",
    "sample_list= []\n",
    "col_list = [] \n",
    "f = open('./data/ryno_project/P3764_P1456.LMO.indiv.MAGs.merged.raw_counts.tsv', 'r+')"
   ]
  },
  {
   "cell_type": "code",
   "execution_count": 37,
   "metadata": {
    "collapsed": false
   },
   "outputs": [
    {
     "name": "stdout",
     "output_type": "stream",
     "text": [
      "['MAG', 'Gene', '120516', '120613', '120712', '120813', '120927', '121024', '121220', '130123', '130226', '130403', '130416', '130422', '130507', '130605', '130705', '130815', '130905', '131003', '140408', '140506', '140604', '140709', '140820', '140916', '141013']\n",
      "MAG\n",
      "Gene\n",
      "120516\n",
      "120613\n",
      "120712\n",
      "120813\n",
      "120927\n",
      "121024\n",
      "121220\n",
      "130123\n",
      "130226\n",
      "130403\n",
      "130416\n",
      "130422\n",
      "130507\n",
      "130605\n",
      "130705\n",
      "130815\n",
      "130905\n",
      "131003\n",
      "140408\n",
      "140506\n",
      "140604\n",
      "140709\n",
      "140820\n",
      "140916\n",
      "141013\n",
      "['MAG', 'Gene', '120516', '120613', '120712', '120813', '120927', '121024', '121220', '130123', '130226', '130403', '130416', '130422', '130507', '130605', '130705', '130815', '130905', '131003', '140408', '140506', '140604', '140709', '140820', '140916', '141013']\n",
      "['120516', '120613', '120712', '120813', '120927', '121024', '121220', '130123', '130226', '130403', '130416', '130422', '130507', '130605', '130705', '130815', '130905', '131003', '140408', '140506', '140604', '140709', '140820', '140916', '141013']\n"
     ]
    }
   ],
   "source": [
    "alllines = f.readlines()\n",
    "#alllines = alllines.strip()\n",
    "firstline = alllines[0]\n",
    "firstline = firstline.split()\n",
    "print(firstline)\n",
    "for i in firstline:    \n",
    "    print(i)\n",
    "    col_list.append(i)\n",
    "    if len(i) == 6:\n",
    "        sample_list.append(i)\n",
    "print(col_list)\n",
    "print(sample_list)\n"
   ]
  },
  {
   "cell_type": "code",
   "execution_count": 1,
   "metadata": {
    "collapsed": false
   },
   "outputs": [
    {
     "ename": "NameError",
     "evalue": "name 'alllines' is not defined",
     "output_type": "error",
     "traceback": [
      "\u001b[0;31m---------------------------------------------------------------------------\u001b[0m",
      "\u001b[0;31mNameError\u001b[0m                                 Traceback (most recent call last)",
      "\u001b[0;32m<ipython-input-1-a9d70cd42a00>\u001b[0m in \u001b[0;36m<module>\u001b[0;34m()\u001b[0m\n\u001b[1;32m      1\u001b[0m \u001b[0mmags_list\u001b[0m \u001b[1;33m=\u001b[0m \u001b[1;33m[\u001b[0m\u001b[1;33m]\u001b[0m\u001b[1;33m\u001b[0m\u001b[0m\n\u001b[1;32m      2\u001b[0m \u001b[0mgene_list\u001b[0m \u001b[1;33m=\u001b[0m \u001b[1;33m[\u001b[0m\u001b[1;33m]\u001b[0m\u001b[1;33m\u001b[0m\u001b[0m\n\u001b[0;32m----> 3\u001b[0;31m \u001b[1;32mfor\u001b[0m \u001b[0mrow\u001b[0m \u001b[1;32min\u001b[0m \u001b[0malllines\u001b[0m\u001b[1;33m[\u001b[0m\u001b[1;36m1\u001b[0m\u001b[1;33m:\u001b[0m\u001b[1;33m]\u001b[0m\u001b[1;33m:\u001b[0m\u001b[1;33m\u001b[0m\u001b[0m\n\u001b[0m\u001b[1;32m      4\u001b[0m     \u001b[0mtemp_row\u001b[0m \u001b[1;33m=\u001b[0m \u001b[0mrow\u001b[0m\u001b[1;33m\u001b[0m\u001b[0m\n\u001b[1;32m      5\u001b[0m     \u001b[0mtemp_row\u001b[0m \u001b[1;33m=\u001b[0m \u001b[0mtemp_row\u001b[0m\u001b[1;33m.\u001b[0m\u001b[0msplit\u001b[0m\u001b[1;33m(\u001b[0m\u001b[1;33m)\u001b[0m\u001b[1;33m\u001b[0m\u001b[0m\n",
      "\u001b[0;31mNameError\u001b[0m: name 'alllines' is not defined"
     ]
    }
   ],
   "source": [
    "mags_list = []\n",
    "gene_list = []\n",
    "for row in alllines[1:]:\n",
    "    temp_row = row\n",
    "    temp_row = temp_row.split()\n",
    "    mags_list.append(temp_row[0])\n",
    "    gene_list.append(temp_row[2])\n",
    "    #print(temp_row)\n",
    "print(mags_list[1], gene_list[1])\n"
   ]
  },
  {
   "cell_type": "markdown",
   "metadata": {},
   "source": [
    "# Read"
   ]
  },
  {
   "cell_type": "code",
   "execution_count": 26,
   "metadata": {
    "collapsed": false
   },
   "outputs": [
    {
     "name": "stdout",
     "output_type": "stream",
     "text": [
      "['MAG\\tGene\\t120516\\t120613\\t120712\\t120813\\t120927\\t121024\\t121220\\t130123\\t130226\\t130403\\t130416\\t130422\\t130507\\t130605\\t130705\\t130815\\t130905\\t131003\\t140408\\t140506\\t140604\\t140709\\t140820\\t140916\\t141013', '120619-bin32\\tPROKKA_MOD_00689\\t0\\t11\\t25\\t1\\t3\\t1\\t0\\t0\\t4\\t0\\t23\\t6\\t32\\t23\\t1\\t0\\t0\\t0\\t0\\t0\\t9\\t126\\t3\\t4\\t0', '120619-bin32\\tPROKKA_MOD_00688\\t0\\t2\\t17\\t0\\t1\\t1\\t0\\t4\\t7\\t0\\t3\\t8\\t18\\t11\\t5\\t0\\t0\\t0\\t0\\t0\\t1\\t51\\t0\\t0\\t0', '120924-bin39\\tPROKKA_MOD_01386\\t4\\t0\\t0\\t0\\t6\\t0\\t0\\t0\\t0\\t0\\t0\\t1\\t0\\t0\\t0\\t0\\t0\\t6\\t0\\t0\\t0\\t0\\t0\\t10\\t4', '120619-bin32\\tPROKKA_MOD_00681\\t0\\t3\\t1\\t18\\t0\\t0\\t0\\t0\\t0\\t0\\t0\\t0\\t0\\t0\\t0\\t0\\t0\\t0\\t0\\t0\\t0\\t10\\t0\\t0\\t0', '120619-bin32\\tPROKKA_MOD_00680\\t0\\t30\\t18\\t1\\t0\\t0\\t0\\t0\\t0\\t0\\t0\\t10\\t0\\t4\\t32\\t0\\t0\\t0\\t0\\t0\\t0\\t73\\t0\\t0\\t2']\n"
     ]
    }
   ],
   "source": [
    "sample_list= []\n",
    "f = open('../../data/ryno_project/P3764_P1456.LMO.indiv.MAGs.merged.raw_counts.tsv', 'r+')\n",
    "#print(f)\n",
    "fread = f.read()\n",
    "fread = fread.split('\\n')\n",
    "#alllines = alllines.strip()\n",
    "#alllines = alllines.split('\\n')\n",
    "\n",
    "print(fread[0:6])\n",
    "\n",
    "#for line in fread:\n",
    " #print(line[0:6])"
   ]
  },
  {
   "cell_type": "markdown",
   "metadata": {},
   "source": [
    "## Redirecting plan to parse data ##"
   ]
  },
  {
   "cell_type": "markdown",
   "metadata": {},
   "source": [
    "* New plan is to use a NumPy array method * After a Datacamp importing data into Python lesson."
   ]
  },
  {
   "cell_type": "code",
   "execution_count": 27,
   "metadata": {
    "collapsed": false
   },
   "outputs": [
    {
     "name": "stdout",
     "output_type": "stream",
     "text": [
      "[[\"b'MAG'\" \"b'Gene'\" \"b'120516'\" ..., \"b'140820'\" \"b'140916'\" \"b'141013'\"]\n",
      " [\"b'120619-bin32'\" \"b'PROKKA_MOD_00689'\" \"b'0'\" ..., \"b'3'\" \"b'4'\" \"b'0'\"]\n",
      " [\"b'120619-bin32'\" \"b'PROKKA_MOD_00688'\" \"b'0'\" ..., \"b'0'\" \"b'0'\" \"b'0'\"]\n",
      " ..., \n",
      " [\"b'121001-bin56'\" \"b'PROKKA_MOD_00257'\" \"b'0'\" ..., \"b'0'\" \"b'0'\" \"b'0'\"]\n",
      " [\"b'121001-bin56'\" \"b'PROKKA_MOD_00254'\" \"b'0'\" ..., \"b'0'\" \"b'0'\" \"b'0'\"]\n",
      " [\"b'121001-bin56'\" \"b'PROKKA_MOD_00255'\" \"b'0'\" ..., \"b'0'\" \"b'0'\" \"b'0'\"]]\n"
     ]
    }
   ],
   "source": [
    "import numpy as np\n",
    "file = '../../data/ryno_project/P3764_P1456.LMO.indiv.MAGs.merged.raw_counts.tsv'\n",
    "\n",
    "data = np.loadtxt(file, delimiter= '\\t', dtype= str)\n",
    "print(data)"
   ]
  },
  {
   "cell_type": "code",
   "execution_count": 28,
   "metadata": {
    "collapsed": false
   },
   "outputs": [
    {
     "name": "stdout",
     "output_type": "stream",
     "text": [
      "[ (b'120619-bin32', b'PROKKA_MOD_00689', 0, 11, 25, 1, 3, 1, 0, 0, 4, 0, 23, 6, 32, 23, 1, 0, 0, 0, 0, 0, 9, 126, 3,  4, 0)\n",
      " (b'120619-bin32', b'PROKKA_MOD_00688', 0,  2, 17, 0, 1, 1, 0, 4, 7, 0,  3, 8, 18, 11, 5, 0, 0, 0, 0, 0, 1,  51, 0,  0, 0)\n",
      " (b'120924-bin39', b'PROKKA_MOD_01386', 4,  0,  0, 0, 6, 0, 0, 0, 0, 0,  0, 1,  0,  0, 0, 0, 0, 6, 0, 0, 0,   0, 0, 10, 4)\n",
      " ...,\n",
      " (b'121001-bin56', b'PROKKA_MOD_00257', 0,  0,  0, 0, 0, 0, 0, 0, 0, 0,  0, 0,  0,  0, 0, 0, 0, 0, 0, 0, 0,   0, 0,  0, 0)\n",
      " (b'121001-bin56', b'PROKKA_MOD_00254', 0,  0,  0, 0, 0, 0, 0, 0, 0, 0,  0, 0,  0,  0, 0, 0, 0, 0, 0, 0, 0,   0, 0,  0, 0)\n",
      " (b'121001-bin56', b'PROKKA_MOD_00255', 0,  0,  0, 0, 0, 0, 0, 0, 0, 0,  0, 0,  0,  0, 0, 0, 0, 0, 0, 0, 0,   0, 0,  0, 0)]\n",
      "(146649,)\n",
      "(b'120619-bin32', b'PROKKA_MOD_00689', 0, 11, 25, 1, 3, 1, 0, 0, 4, 0, 23, 6, 32, 23, 1, 0, 0, 0, 0, 0, 9, 126, 3, 4, 0)\n"
     ]
    }
   ],
   "source": [
    "data = np.genfromtxt(file, delimiter= '\\t', names=True, dtype= None)\n",
    "print(data)\n",
    "print(np.shape(data))\n",
    "\n",
    "print(data[0])"
   ]
  },
  {
   "cell_type": "code",
   "execution_count": 29,
   "metadata": {
    "collapsed": false
   },
   "outputs": [
    {
     "name": "stdout",
     "output_type": "stream",
     "text": [
      "[b'PROKKA_MOD_00689' b'PROKKA_MOD_00688' b'PROKKA_MOD_01386' ...,\n",
      " b'PROKKA_MOD_00257' b'PROKKA_MOD_00254' b'PROKKA_MOD_00255']\n",
      "[b'120619-bin32' b'120619-bin32' b'120924-bin39' ..., b'121001-bin56'\n",
      " b'121001-bin56' b'121001-bin56']\n"
     ]
    }
   ],
   "source": [
    "print(data['Gene'])\n",
    "print(data['MAG'])"
   ]
  },
  {
   "cell_type": "markdown",
   "metadata": {},
   "source": [
    "### Using Pandas ###"
   ]
  },
  {
   "cell_type": "code",
   "execution_count": 30,
   "metadata": {
    "collapsed": false
   },
   "outputs": [
    {
     "name": "stdout",
     "output_type": "stream",
     "text": [
      "            MAG              Gene  120516  120613  120712  120813  120927  \\\n",
      "0  120619-bin32  PROKKA_MOD_00689       0      11      25       1       3   \n",
      "1  120619-bin32  PROKKA_MOD_00688       0       2      17       0       1   \n",
      "2  120924-bin39  PROKKA_MOD_01386       4       0       0       0       6   \n",
      "3  120619-bin32  PROKKA_MOD_00681       0       3       1      18       0   \n",
      "4  120619-bin32  PROKKA_MOD_00680       0      30      18       1       0   \n",
      "\n",
      "   121024  121220  130123   ...    130815  130905  131003  140408  140506  \\\n",
      "0       1       0       0   ...         0       0       0       0       0   \n",
      "1       1       0       4   ...         0       0       0       0       0   \n",
      "2       0       0       0   ...         0       0       6       0       0   \n",
      "3       0       0       0   ...         0       0       0       0       0   \n",
      "4       0       0       0   ...         0       0       0       0       0   \n",
      "\n",
      "   140604  140709  140820  140916  141013  \n",
      "0       9     126       3       4       0  \n",
      "1       1      51       0       0       0  \n",
      "2       0       0       0      10       4  \n",
      "3       0      10       0       0       0  \n",
      "4       0      73       0       0       2  \n",
      "\n",
      "[5 rows x 27 columns]\n"
     ]
    }
   ],
   "source": [
    "import pandas as pd\n",
    "df= pd.read_table(file)\n",
    "print(df.head())"
   ]
  },
  {
   "cell_type": "code",
   "execution_count": 31,
   "metadata": {
    "collapsed": false
   },
   "outputs": [
    {
     "data": {
      "text/plain": [
       "'C:\\\\Users\\\\Admin\\\\Documents\\\\GitHub\\\\scilife_project\\\\doc\\\\my_docs'"
      ]
     },
     "execution_count": 31,
     "metadata": {},
     "output_type": "execute_result"
    }
   ],
   "source": [
    "pwd"
   ]
  },
  {
   "cell_type": "code",
   "execution_count": 32,
   "metadata": {
    "collapsed": true
   },
   "outputs": [],
   "source": [
    "import numpy as np\n",
    "import pandas as pd\n",
    "import matplotlib.pyplot as plt"
   ]
  },
  {
   "cell_type": "code",
   "execution_count": 34,
   "metadata": {
    "collapsed": true
   },
   "outputs": [],
   "source": [
    "file1 = '../../data/ryno_project/P3764_P1456.LMO.indiv.MAGs.merged.raw_counts.tsv'\n",
    "file2 = '../../data/ryno_project/AF2-SCG present in each bin.tsv'\n",
    "file3 = '../../data/ryno_project/LMO_time_series_Metadata_to_Barbel_mod.txt'\n",
    "file4 = '../../data/ryno_project/reference_genomes.xlsx'\n",
    "\n",
    "idfile1 = '../../data/ryno_project/LMO.indiv.MAGs.merged.COG.tsv'\n",
    "idfile2 = '../../data/ryno_project/LMO.indiv.MAGs.merged.EC.tsv'\n",
    "idfile3 = '../../data/ryno_project/LMO.indiv.MAGs.merged.PFAM.tsv'\n",
    "idfile4 = '../../data/ryno_project/LMO.indiv.MAGs.merged.TIGRFAM.tsv'"
   ]
  },
  {
   "cell_type": "markdown",
   "metadata": {},
   "source": [
    "## File1 - pandas import and creating DataFrame"
   ]
  },
  {
   "cell_type": "code",
   "execution_count": 35,
   "metadata": {
    "collapsed": false
   },
   "outputs": [
    {
     "name": "stdout",
     "output_type": "stream",
     "text": [
      "../../data/ryno_project/P3764_P1456.LMO.indiv.MAGs.merged.raw_counts.tsv\n",
      "            MAG              Gene  120516  120613  120712  120813  120927  \\\n",
      "0  120619-bin32  PROKKA_MOD_00689       0      11      25       1       3   \n",
      "1  120619-bin32  PROKKA_MOD_00688       0       2      17       0       1   \n",
      "2  120924-bin39  PROKKA_MOD_01386       4       0       0       0       6   \n",
      "3  120619-bin32  PROKKA_MOD_00681       0       3       1      18       0   \n",
      "4  120619-bin32  PROKKA_MOD_00680       0      30      18       1       0   \n",
      "\n",
      "   121024  121220  130123   ...    130815  130905  131003  140408  140506  \\\n",
      "0       1       0       0   ...         0       0       0       0       0   \n",
      "1       1       0       4   ...         0       0       0       0       0   \n",
      "2       0       0       0   ...         0       0       6       0       0   \n",
      "3       0       0       0   ...         0       0       0       0       0   \n",
      "4       0       0       0   ...         0       0       0       0       0   \n",
      "\n",
      "   140604  140709  140820  140916  141013  \n",
      "0       9     126       3       4       0  \n",
      "1       1      51       0       0       0  \n",
      "2       0       0       0      10       4  \n",
      "3       0      10       0       0       0  \n",
      "4       0      73       0       0       2  \n",
      "\n",
      "[5 rows x 27 columns]\n",
      "<class 'pandas.core.frame.DataFrame'>\n",
      "RangeIndex: 146649 entries, 0 to 146648\n",
      "Data columns (total 27 columns):\n",
      "MAG       146649 non-null object\n",
      "Gene      146649 non-null object\n",
      "120516    146649 non-null int64\n",
      "120613    146649 non-null int64\n",
      "120712    146649 non-null int64\n",
      "120813    146649 non-null int64\n",
      "120927    146649 non-null int64\n",
      "121024    146649 non-null int64\n",
      "121220    146649 non-null int64\n",
      "130123    146649 non-null int64\n",
      "130226    146649 non-null int64\n",
      "130403    146649 non-null int64\n",
      "130416    146649 non-null int64\n",
      "130422    146649 non-null int64\n",
      "130507    146649 non-null int64\n",
      "130605    146649 non-null int64\n",
      "130705    146649 non-null int64\n",
      "130815    146649 non-null int64\n",
      "130905    146649 non-null int64\n",
      "131003    146649 non-null int64\n",
      "140408    146649 non-null int64\n",
      "140506    146649 non-null int64\n",
      "140604    146649 non-null int64\n",
      "140709    146649 non-null int64\n",
      "140820    146649 non-null int64\n",
      "140916    146649 non-null int64\n",
      "141013    146649 non-null int64\n",
      "dtypes: int64(25), object(2)\n",
      "memory usage: 30.2+ MB\n",
      "None\n",
      "\n",
      "\n",
      "\n",
      "\n",
      "\n",
      "\n"
     ]
    }
   ],
   "source": [
    "#################Head of the whole of file1#################\n",
    "print(str(file1))\n",
    "df= pd.read_table(file1)\n",
    "print(df.head())\n",
    "\n",
    "#print(df.index)\n",
    "#print(df.columns)\n",
    "#print(df.shape)\n",
    "#print(type(df))\n",
    "#print(type(df.index))\n",
    "#print(df.iloc[:5,:])   #First 5\n",
    "#print(df.iloc[-5:,:])  #Last 5\n",
    "print(df.info())\n",
    "print('\\n')\n",
    "print('\\n')\n",
    "print('\\n')\n"
   ]
  },
  {
   "cell_type": "markdown",
   "metadata": {},
   "source": [
    "# File2 - pandas import and creating DataFrame"
   ]
  },
  {
   "cell_type": "code",
   "execution_count": 36,
   "metadata": {
    "collapsed": false,
    "scrolled": true
   },
   "outputs": [
    {
     "name": "stdout",
     "output_type": "stream",
     "text": [
      "../../data/ryno_project/AF2-SCG present in each bin.tsv\n",
      "  Cluster           Bin  No.Contigs  No.Bases  N50  N50_length  N90  \\\n",
      "0  BACL13  120910-bin56         183   1270387   30       13618  111   \n",
      "1  BACL13  121220-bin23         336   1086213   80        3997  249   \n",
      "2  BACL15  120619-bin91         374   1001092   97        3136  290   \n",
      "3  BACL15  120823-bin78         675   1997685  161        3643  511   \n",
      "4   BACL2  120507-bin38         222   1482147   31       15137  128   \n",
      "\n",
      "   N90_length  Longest_contig  Coverage within sample          ...            \\\n",
      "0        2708           67392                    15.7          ...             \n",
      "1        1528           19547                    26.4          ...             \n",
      "2        1366           10584                    13.6          ...             \n",
      "3        1460           15563                    34.5          ...             \n",
      "4        2431           44484                    85.1          ...             \n",
      "\n",
      "  Spirochaetes_total  Synergistetes==1  Synergistetes>1  Synergistetes_total  \\\n",
      "0                127               118                6                  523   \n",
      "1                127               159                9                  523   \n",
      "2                127               248               15                  523   \n",
      "3                127               270               17                  523   \n",
      "4                127               158                5                  523   \n",
      "\n",
      "   Thermotogae==1  Thermotogae>1  Thermotogae_total  Verrucomicrobia==1  \\\n",
      "0              87              3                369                 109   \n",
      "1             116              8                369                 141   \n",
      "2             200              9                369                 201   \n",
      "3             222             10                369                 221   \n",
      "4             139              2                369                 134   \n",
      "\n",
      "   Verrucomicrobia>1  Verrucomicrobia_total  \n",
      "0                  0                    330  \n",
      "1                  3                    330  \n",
      "2                  9                    330  \n",
      "3                  5                    330  \n",
      "4                  2                    330  \n",
      "\n",
      "[5 rows x 122 columns]\n",
      "<class 'pandas.core.frame.DataFrame'>\n",
      "RangeIndex: 83 entries, 0 to 82\n",
      "Columns: 122 entries, Cluster to Verrucomicrobia_total\n",
      "dtypes: float64(1), int64(118), object(3)\n",
      "memory usage: 79.2+ KB\n",
      "None\n",
      "\n",
      "\n",
      "\n",
      "\n",
      "\n",
      "\n"
     ]
    }
   ],
   "source": [
    "#################Head of the whole of file2#################\n",
    "print(str(file2))\n",
    "df= pd.read_table(file2)\n",
    "print(df.head())\n",
    "\n",
    "#print(df.index)\n",
    "#print(df.columns)\n",
    "#print(df.shape)\n",
    "#print(type(df))\n",
    "#print(type(df.index))\n",
    "#print(df.iloc[:5,:])   #First 5\n",
    "#print(df.iloc[-5:,:])  #Last 5\n",
    "print(df.info())\n",
    "print('\\n')\n",
    "print('\\n')\n",
    "print('\\n')"
   ]
  },
  {
   "cell_type": "markdown",
   "metadata": {},
   "source": [
    "## File 3 - pandas import and creating DataFrame"
   ]
  },
  {
   "cell_type": "code",
   "execution_count": 37,
   "metadata": {
    "collapsed": false
   },
   "outputs": [
    {
     "name": "stdout",
     "output_type": "stream",
     "text": [
      "../../data/ryno_project/LMO_time_series_Metadata_to_Barbel_mod.txt\n",
      "   Original order      Date  Year  Month  Day  Temperature  Salinity   Chla   \\\n",
      "0               1  25-03-11  2011      3   25          1.5      6.35   1.323   \n",
      "1               2  30-03-11  2011      3   30          1.5      6.50   1.486   \n",
      "2               3  11-04-11  2011      4   11          2.4      6.30   4.601   \n",
      "3               4  14-04-11  2011      4   14          2.5      6.50  13.454   \n",
      "4               5  20-04-11  2011      4   20          4.3      6.30   5.879   \n",
      "\n",
      "   Nitrate   Phosphate   Silicate   Ammonium         DOC   TotalN  \\\n",
      "0     2.350        0.55      11.20       0.00  361.040000   17.53   \n",
      "1     2.135        0.55      13.17       0.00  493.176459   18.39   \n",
      "2     1.010        0.45      12.90       0.70  390.053286   19.01   \n",
      "3     0.135        0.42       8.46       0.30  386.521838   18.26   \n",
      "4     0.330        0.28      10.78       0.23  388.949708   17.77   \n",
      "\n",
      "   BacterialAbundance  BacterialProduction  BacterialProduction.1  \n",
      "0            1.354531                  8.2               0.608365  \n",
      "1            2.597280                  6.3               0.467403  \n",
      "2            2.058076                 19.3               1.431884  \n",
      "3            2.426749                 37.8               2.804416  \n",
      "4            3.368332                 69.1               5.126591  \n",
      "<class 'pandas.core.frame.DataFrame'>\n",
      "RangeIndex: 178 entries, 0 to 177\n",
      "Data columns (total 17 columns):\n",
      "Original order           178 non-null int64\n",
      "Date                     178 non-null object\n",
      "Year                     178 non-null int64\n",
      "Month                    178 non-null int64\n",
      "Day                      178 non-null int64\n",
      "Temperature              177 non-null float64\n",
      "Salinity                 159 non-null float64\n",
      "Chla                     177 non-null float64\n",
      "Nitrate                  177 non-null float64\n",
      "Phosphate                177 non-null float64\n",
      "Silicate                 177 non-null float64\n",
      "Ammonium                 177 non-null float64\n",
      "DOC                      167 non-null float64\n",
      "TotalN                   167 non-null float64\n",
      "BacterialAbundance       100 non-null float64\n",
      "BacterialProduction      103 non-null float64\n",
      "BacterialProduction.1    103 non-null float64\n",
      "dtypes: float64(12), int64(4), object(1)\n",
      "memory usage: 23.7+ KB\n",
      "None\n",
      "\n",
      "\n",
      "\n",
      "\n",
      "\n",
      "\n"
     ]
    }
   ],
   "source": [
    "#################Head of the whole of file3#################\n",
    "print(str(file3))\n",
    "df= pd.read_table(file3)\n",
    "print(df.head())\n",
    "\n",
    "#print(df.index)\n",
    "#print(df.columns)\n",
    "#print(df.shape)\n",
    "#print(type(df))\n",
    "#print(type(df.index))\n",
    "#print(df.iloc[:5,:])   #First 5\n",
    "#print(df.iloc[-5:,:])  #Last 5\n",
    "print(df.info())\n",
    "print('\\n')\n",
    "print('\\n')\n",
    "print('\\n')\n"
   ]
  },
  {
   "cell_type": "markdown",
   "metadata": {},
   "source": [
    "## File4 - pandas import and creating DataFrame"
   ]
  },
  {
   "cell_type": "code",
   "execution_count": 56,
   "metadata": {
    "collapsed": false
   },
   "outputs": [
    {
     "name": "stdout",
     "output_type": "stream",
     "text": [
      "../../data/ryno_project/reference_genomes.xlsx\n",
      "['Sheet1']\n",
      "<class 'pandas.core.frame.DataFrame'>\n",
      "RangeIndex: 30 entries, 0 to 29\n",
      "Data columns (total 11 columns):\n",
      "Cluster                   30 non-null object\n",
      "Bin                       30 non-null object\n",
      "No. contigs               30 non-null int64\n",
      "No. bases                 30 non-null int64\n",
      "N50                       30 non-null int64\n",
      "N50 length                30 non-null int64\n",
      "N90                       30 non-null int64\n",
      "N90 length                30 non-null int64\n",
      "Longest contig            30 non-null int64\n",
      "Coverage within sample    30 non-null float64\n",
      "Phylogeny                 30 non-null object\n",
      "dtypes: float64(1), int64(7), object(3)\n",
      "memory usage: 2.7+ KB\n",
      "None\n"
     ]
    },
    {
     "data": {
      "text/plain": [
       "0     BACTERIA;PROTEOBACTERIA;GAMMAPROTEOBACTERIA;SA...\n",
       "1                          BACTERIA;ACTINOBACTERIA;ACI;\n",
       "2     BACTERIA;PROTEOBACTERIA;GAMMAPROTEOBACTERIA;OM...\n",
       "3                          BACTERIA;ACTINOBACTERIA;ACI;\n",
       "4     BACTERIA;PROTEOBACTERIA;ALPHAPROTEOBACTERIA;SA...\n",
       "5                         BACTERIA;ACTINOBACTERIA;ACIV;\n",
       "6     BACTERIA;BACTEROIDETES;FLAVOBACTERIIA;CRYOMORP...\n",
       "7     BACTERIA;BACTEROIDETES;FLAVOBACTERIIA;FLAVOBAC...\n",
       "8                        BACTERIA;VERRUCOMICROBIA;LD19;\n",
       "9     BACTERIA;PROTEOBACTERIA;ALPHAPROTEOBACTERIA;RH...\n",
       "10    BACTERIA;BACTEROIDETES;FLAVOBACTERIIA;CRYOMORP...\n",
       "11    BACTERIA;BACTEROIDETES;SPHINGOBACTERIIA;SPHING...\n",
       "12               ARCHAEA;THAUMARCHAEOTA;NITROSOPUMILUS;\n",
       "13     BACTERIA;PROTEOBACTERIA;BETAPROTEOBACTERIA;OM43;\n",
       "14                         BACTERIA;ACTINOBACTERIA;ACI;\n",
       "15    BACTERIA;PROTEOBACTERIA;GAMMAPROTEOBACTERIA;SA...\n",
       "16                        BACTERIA;ACTINOBACTERIA;ACIV;\n",
       "17    BACTERIA;BACTEROIDETES;FLAVOBACTERIIA;CRYOMORP...\n",
       "18                        BACTERIA;ACTINOBACTERIA;ACIV;\n",
       "19    BACTERIA;PROTEOBACTERIA;ALPHAPROTEOBACTERIA;SA...\n",
       "20    BACTERIA;BACTEROIDETES;FLAVOBACTERIIA;FLAVOBAC...\n",
       "21    BACTERIA;BACTEROIDETES;FLAVOBACTERIIA;FLAVOBAC...\n",
       "22    BACTERIA;BACTEROIDETES;FLAVOBACTERIIA;CRYOMORP...\n",
       "23                BACTERIA;VERRUCOMICROBIA;OPITUTACEAE;\n",
       "24                        BACTERIA;ACTINOBACTERIA;LUNA;\n",
       "25    BACTERIA;PROTEOBACTERIA;GAMMAPROTEOBACTERIA;SA...\n",
       "26                        BACTERIA;ACTINOBACTERIA;ACIV;\n",
       "27                        BACTERIA;ACTINOBACTERIA;LUNA;\n",
       "28    BACTERIA;BACTEROIDETES;FLAVOBACTERIIA;FLAVOBAC...\n",
       "29                    BACTERIA;CYANOBACTERIA;CYANOBIUM;\n",
       "Name: Phylogeny, dtype: object"
      ]
     },
     "execution_count": 56,
     "metadata": {},
     "output_type": "execute_result"
    }
   ],
   "source": [
    "\n",
    "#################Head of the whole of file4#################\n",
    "print(str(file4))\n",
    "df= pd.ExcelFile(file4)\n",
    "print(df.sheet_names)\n",
    "df1 = df.parse(0)\n",
    "df1.head()\n",
    "#print(df1.index)\n",
    "#print(df1.columns)\n",
    "#print(df1.shape)\n",
    "#print(type(df1))\n",
    "#print(type(df1.index))\n",
    "#print(df1.iloc[:5,:])   #First 5\n",
    "#print(df1.iloc[-5:,:])  #Last 5\n",
    "print(df1.info())\n",
    "\n",
    "df1['Phylogeny']\n"
   ]
  },
  {
   "cell_type": "markdown",
   "metadata": {},
   "source": [
    "## IDFile1 - pandas import and creating DataFrame"
   ]
  },
  {
   "cell_type": "code",
   "execution_count": 38,
   "metadata": {
    "collapsed": false
   },
   "outputs": [
    {
     "name": "stdout",
     "output_type": "stream",
     "text": [
      "\n",
      "\n",
      "\n",
      "\n",
      "\n",
      "\n",
      "   120322-bin51|PROKKA_MOD_00001  COG0001\n",
      "0  120322-bin51|PROKKA_MOD_00002  COG0171\n",
      "1  120322-bin51|PROKKA_MOD_00003  COG1538\n",
      "2  120322-bin51|PROKKA_MOD_00004  COG0424\n",
      "3  120322-bin51|PROKKA_MOD_00006  COG0564\n",
      "4  120322-bin51|PROKKA_MOD_00009  COG3536\n",
      "<class 'pandas.core.frame.DataFrame'>\n",
      "RangeIndex: 88447 entries, 0 to 88446\n",
      "Data columns (total 2 columns):\n",
      "120322-bin51|PROKKA_MOD_00001    88447 non-null object\n",
      "COG0001                          88447 non-null object\n",
      "dtypes: object(2)\n",
      "memory usage: 1.3+ MB\n",
      "None\n"
     ]
    }
   ],
   "source": [
    "#################Head of the whole of idfile1#################\n",
    "print('\\n')\n",
    "print('\\n')\n",
    "print('\\n')\n",
    "df= pd.read_table(idfile1)\n",
    "print(df.head())\n",
    "\n",
    "#print(df.index)\n",
    "#print(df.columns)\n",
    "#print(df.shape)\n",
    "#print(type(df))\n",
    "#print(type(df.index))\n",
    "#print(df.iloc[:5,:])   #First 5\n",
    "#print(df.iloc[-5:,:])  #Last 5\n",
    "print(df.info())\n",
    "\n",
    "\n"
   ]
  },
  {
   "cell_type": "markdown",
   "metadata": {
    "collapsed": true
   },
   "source": [
    "## IDFile2 - pandas import and creating DataFramem"
   ]
  },
  {
   "cell_type": "code",
   "execution_count": 39,
   "metadata": {
    "collapsed": false
   },
   "outputs": [
    {
     "name": "stdout",
     "output_type": "stream",
     "text": [
      "\n",
      "\n",
      "\n",
      "\n",
      "\n",
      "\n",
      "../../data/ryno_project/LMO.indiv.MAGs.merged.EC.tsv\n",
      "   120322-bin51|PROKKA_MOD_00001    5.4.3.8\n",
      "0  120322-bin51|PROKKA_MOD_00002    6.3.5.1\n",
      "1  120322-bin51|PROKKA_MOD_00006  5.4.99.26\n",
      "2  120322-bin51|PROKKA_MOD_00010   1.5.1.20\n",
      "3  120322-bin51|PROKKA_MOD_00015    6.1.1.4\n",
      "4  120322-bin51|PROKKA_MOD_00020  2.1.1.176\n",
      "<class 'pandas.core.frame.DataFrame'>\n",
      "RangeIndex: 57686 entries, 0 to 57685\n",
      "Data columns (total 2 columns):\n",
      "120322-bin51|PROKKA_MOD_00001    57686 non-null object\n",
      "5.4.3.8                          57686 non-null object\n",
      "dtypes: object(2)\n",
      "memory usage: 901.4+ KB\n",
      "None\n",
      "\n",
      "\n",
      "\n",
      "\n",
      "\n",
      "\n"
     ]
    }
   ],
   "source": [
    "#################Head of the whole of idfile2#################\n",
    "print('\\n')\n",
    "print('\\n')\n",
    "print('\\n')\n",
    "print(str(idfile2))\n",
    "df= pd.read_table(idfile2)\n",
    "print(df.head())\n",
    "\n",
    "#print(df.index)\n",
    "#print(df.columns)\n",
    "#print(df.shape)\n",
    "#print(type(df))\n",
    "#print(type(df.index))\n",
    "#print(df.iloc[:5,:])   #First 5\n",
    "#print(df.iloc[-5:,:])  #Last 5\n",
    "print(df.info())\n",
    "print('\\n')\n",
    "print('\\n')\n",
    "print('\\n')\n",
    "\n"
   ]
  },
  {
   "cell_type": "code",
   "execution_count": null,
   "metadata": {
    "collapsed": true
   },
   "outputs": [],
   "source": []
  },
  {
   "cell_type": "markdown",
   "metadata": {
    "collapsed": true
   },
   "source": [
    "## IDFile3 - pandas import and creating DataFrame"
   ]
  },
  {
   "cell_type": "code",
   "execution_count": 40,
   "metadata": {
    "collapsed": false
   },
   "outputs": [
    {
     "name": "stdout",
     "output_type": "stream",
     "text": [
      "../../data/ryno_project/LMO.indiv.MAGs.merged.PFAM.tsv\n",
      "   120322-bin51|PROKKA_MOD_00001  PF00202\n",
      "0  120322-bin51|PROKKA_MOD_00002  PF02540\n",
      "1  120322-bin51|PROKKA_MOD_00003  PF02321\n",
      "2  120322-bin51|PROKKA_MOD_00004  PF02545\n",
      "3  120322-bin51|PROKKA_MOD_00006  PF00849\n",
      "4  120322-bin51|PROKKA_MOD_00007  PF01464\n",
      "<class 'pandas.core.frame.DataFrame'>\n",
      "RangeIndex: 100301 entries, 0 to 100300\n",
      "Data columns (total 2 columns):\n",
      "120322-bin51|PROKKA_MOD_00001    100301 non-null object\n",
      "PF00202                          100301 non-null object\n",
      "dtypes: object(2)\n",
      "memory usage: 1.5+ MB\n",
      "None\n",
      "\n",
      "\n",
      "\n",
      "\n",
      "\n",
      "\n"
     ]
    }
   ],
   "source": [
    "#################Head of the whole of idfile3#################\n",
    "print(str(idfile3))\n",
    "df= pd.read_table(idfile3)\n",
    "print(df.head())\n",
    "\n",
    "#print(df.index)\n",
    "#print(df.columns)\n",
    "#print(df.shape)\n",
    "#print(type(df))\n",
    "#print(type(df.index))\n",
    "#print(df.iloc[:5,:])   #First 5\n",
    "#print(df.iloc[-5:,:])  #Last 5\n",
    "print(df.info())\n",
    "print('\\n')\n",
    "print('\\n')\n",
    "print('\\n')\n",
    "\n"
   ]
  },
  {
   "cell_type": "markdown",
   "metadata": {
    "collapsed": true
   },
   "source": [
    "## IDFile4 - pandas import and creating DataFrame"
   ]
  },
  {
   "cell_type": "code",
   "execution_count": 41,
   "metadata": {
    "collapsed": false
   },
   "outputs": [
    {
     "name": "stdout",
     "output_type": "stream",
     "text": [
      "../../data/ryno_project/LMO.indiv.MAGs.merged.TIGRFAM.tsv\n",
      "   120322-bin51|PROKKA_MOD_00001  COG0001\n",
      "0  120322-bin51|PROKKA_MOD_00002  COG0171\n",
      "1  120322-bin51|PROKKA_MOD_00003  COG1538\n",
      "2  120322-bin51|PROKKA_MOD_00004  COG0424\n",
      "3  120322-bin51|PROKKA_MOD_00006  COG0564\n",
      "4  120322-bin51|PROKKA_MOD_00009  COG3536\n",
      "<class 'pandas.core.frame.DataFrame'>\n",
      "RangeIndex: 88447 entries, 0 to 88446\n",
      "Data columns (total 2 columns):\n",
      "120322-bin51|PROKKA_MOD_00001    88447 non-null object\n",
      "COG0001                          88447 non-null object\n",
      "dtypes: object(2)\n",
      "memory usage: 1.3+ MB\n",
      "None\n",
      "\n",
      "\n",
      "\n",
      "\n",
      "\n",
      "\n"
     ]
    }
   ],
   "source": [
    "#################Head of the whole of idfile4#################\n",
    "print(str(idfile4))\n",
    "df= pd.read_table(idfile4)\n",
    "print(df.head())\n",
    "\n",
    "#print(df.index)\n",
    "#print(df.columns)\n",
    "#print(df.shape)\n",
    "#print(type(df))\n",
    "#print(type(df.index))\n",
    "#print(df.iloc[:5,:])   #First 5\n",
    "#print(df.iloc[-5:,:])  #Last 5\n",
    "print(df.info())\n",
    "print('\\n')\n",
    "print('\\n')\n",
    "print('\\n')"
   ]
  }
 ],
 "metadata": {
  "anaconda-cloud": {},
  "kernelspec": {
   "display_name": "Python [default]",
   "language": "python",
   "name": "python3"
  },
  "language_info": {
   "codemirror_mode": {
    "name": "ipython",
    "version": 3
   },
   "file_extension": ".py",
   "mimetype": "text/x-python",
   "name": "python",
   "nbconvert_exporter": "python",
   "pygments_lexer": "ipython3",
   "version": "3.5.3"
  }
 },
 "nbformat": 4,
 "nbformat_minor": 2
}
