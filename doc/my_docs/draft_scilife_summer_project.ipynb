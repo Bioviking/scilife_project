{
 "cells": [
  {
   "cell_type": "markdown",
   "metadata": {},
   "source": [
    "# Scilife Summer Project in Environmental Genomics\n",
    "Summer project with the Envgen group at Science for life laboratory\n",
    "\n",
    "\n",
    "In this project I will be working with the following data files supplied by Anders Andersson:\n",
    "\n",
    "(root paths)\n",
    "\n",
    "** General data file featuring Metatranscriptomic data such as MAGS, samples and genes ** \n",
    "\n",
    "+ *./data/ryno_project/P3764_P1456.LMO.indiv.MAGs.merged.raw_counts.tsv * \n",
    "+ *./data/ryno_project/.~lock.P3764_P1456.LMO.indiv.MAGs.merged.raw_counts.tsv * \n",
    "\n",
    "** The environmental metadata for the LMO station at the time of sampling ** \n",
    "\n",
    "+ *./data/ryno_project/LMO_time_series_Metadata_to_Barbel_mod.txt * \n",
    "+ *./data/ryno_project/AF2-SCG present in each bin.tsv * \n",
    "+ *./data/ryno_project/reference_genomes.xlsx *\n",
    "\n",
    "** The annotated genes and the corresponding gene ID tags from the COG, EC, Pfam and TIGRFAM database: **\n",
    "+ *./data/ryno_project/LMO.indiv.MAGs.merged.COG.tsv *\n",
    "+ *./data/ryno_project/LMO.indiv.MAGs.merged.EC.tsv *\n",
    "+ *./data/ryno_project/LMO.indiv.MAGs.merged.PFAM.tsv *\n",
    "+ *./data/ryno_project/LMO.indiv.MAGs.merged.TIGRFAM.tsv *\n"
   ]
  },
  {
   "cell_type": "code",
   "execution_count": 8,
   "metadata": {
    "collapsed": false
   },
   "outputs": [
    {
     "data": {
      "text/plain": [
       "'/mnt/d/Github/scilife_project/doc/my_docs'"
      ]
     },
     "execution_count": 8,
     "metadata": {},
     "output_type": "execute_result"
    }
   ],
   "source": [
    "pwd"
   ]
  },
  {
   "cell_type": "markdown",
   "metadata": {},
   "source": [
    "** General data file featuring featuring Metatranscriptomic data such as MAGS, samples and genes **\n",
    "\n",
    "+ *./data/ryno_project/P3764_P1456.LMO.indiv.MAGs.merged.raw_counts.tsv*"
   ]
  },
  {
   "cell_type": "markdown",
   "metadata": {},
   "source": [
    "## Creating a sample list "
   ]
  },
  {
   "cell_type": "markdown",
   "metadata": {},
   "source": [
    "Opening file\n",
    "Parsing of this file: *./data/ryno_project/P3764_P1456.LMO.indiv.MAGs.merged.raw_counts.tsv*"
   ]
  },
  {
   "cell_type": "code",
   "execution_count": null,
   "metadata": {
    "collapsed": true
   },
   "outputs": [],
   "source": []
  },
  {
   "cell_type": "markdown",
   "metadata": {},
   "source": [
    "Opening the Individual MAGs raw count File"
   ]
  },
  {
   "cell_type": "code",
   "execution_count": 9,
   "metadata": {
    "collapsed": false
   },
   "outputs": [],
   "source": [
    "import sys\n",
    "sample_list= []\n",
    "f = open('../../data/ryno_project/P3764_P1456.LMO.indiv.MAGs.merged.raw_counts.tsv', 'r+')"
   ]
  },
  {
   "cell_type": "markdown",
   "metadata": {},
   "source": [
    "An example of \"readline\""
   ]
  },
  {
   "cell_type": "code",
   "execution_count": 10,
   "metadata": {
    "collapsed": false
   },
   "outputs": [
    {
     "name": "stdout",
     "output_type": "stream",
     "text": [
      "['MAG', 'Gene', '120516', '120613', '120712', '120813', '120927', '121024', '121220', '130123', '130226', '130403', '130416', '130422', '130507', '130605', '130705', '130815', '130905', '131003', '140408', '140506', '140604', '140709', '140820', '140916', '141013']\n",
      "['120516', '120613', '120712', '120813', '120927', '121024', '121220', '130123', '130226', '130403', '130416', '130422', '130507', '130605', '130705', '130815', '130905', '131003', '140408', '140506', '140604', '140709', '140820', '140916', '141013']\n"
     ]
    }
   ],
   "source": [
    "#print(f)\n",
    "fline= f.readline()\n",
    "fline= fline.split()\n",
    "print(fline)\n",
    "for i in fline:\n",
    "    #print(len(i))\n",
    "    if len(i) == 6:\n",
    "        sample_list.append(i)\n",
    "print(sample_list)"
   ]
  },
  {
   "cell_type": "code",
   "execution_count": null,
   "metadata": {
    "collapsed": true
   },
   "outputs": [],
   "source": []
  },
  {
   "cell_type": "code",
   "execution_count": 11,
   "metadata": {
    "collapsed": false
   },
   "outputs": [
    {
     "data": {
      "application/json": {
       "cell": {
        "!": "OSMagics",
        "HTML": "Other",
        "SVG": "Other",
        "bash": "Other",
        "capture": "ExecutionMagics",
        "debug": "ExecutionMagics",
        "file": "Other",
        "html": "DisplayMagics",
        "javascript": "DisplayMagics",
        "js": "DisplayMagics",
        "latex": "DisplayMagics",
        "markdown": "DisplayMagics",
        "perl": "Other",
        "prun": "ExecutionMagics",
        "pypy": "Other",
        "python": "Other",
        "python2": "Other",
        "python3": "Other",
        "ruby": "Other",
        "script": "ScriptMagics",
        "sh": "Other",
        "svg": "DisplayMagics",
        "sx": "OSMagics",
        "system": "OSMagics",
        "time": "ExecutionMagics",
        "timeit": "ExecutionMagics",
        "writefile": "OSMagics"
       },
       "line": {
        "alias": "OSMagics",
        "alias_magic": "BasicMagics",
        "autoawait": "AsyncMagics",
        "autocall": "AutoMagics",
        "automagic": "AutoMagics",
        "autosave": "KernelMagics",
        "bookmark": "OSMagics",
        "cat": "Other",
        "cd": "OSMagics",
        "clear": "KernelMagics",
        "colors": "BasicMagics",
        "conda": "PackagingMagics",
        "config": "ConfigMagics",
        "connect_info": "KernelMagics",
        "cp": "Other",
        "debug": "ExecutionMagics",
        "dhist": "OSMagics",
        "dirs": "OSMagics",
        "doctest_mode": "BasicMagics",
        "ed": "Other",
        "edit": "KernelMagics",
        "env": "OSMagics",
        "gui": "BasicMagics",
        "hist": "Other",
        "history": "HistoryMagics",
        "killbgscripts": "ScriptMagics",
        "ldir": "Other",
        "less": "KernelMagics",
        "lf": "Other",
        "lk": "Other",
        "ll": "Other",
        "load": "CodeMagics",
        "load_ext": "ExtensionMagics",
        "loadpy": "CodeMagics",
        "logoff": "LoggingMagics",
        "logon": "LoggingMagics",
        "logstart": "LoggingMagics",
        "logstate": "LoggingMagics",
        "logstop": "LoggingMagics",
        "ls": "Other",
        "lsmagic": "BasicMagics",
        "lx": "Other",
        "macro": "ExecutionMagics",
        "magic": "BasicMagics",
        "man": "KernelMagics",
        "matplotlib": "PylabMagics",
        "mkdir": "Other",
        "more": "KernelMagics",
        "mv": "Other",
        "notebook": "BasicMagics",
        "page": "BasicMagics",
        "pastebin": "CodeMagics",
        "pdb": "ExecutionMagics",
        "pdef": "NamespaceMagics",
        "pdoc": "NamespaceMagics",
        "pfile": "NamespaceMagics",
        "pinfo": "NamespaceMagics",
        "pinfo2": "NamespaceMagics",
        "pip": "PackagingMagics",
        "popd": "OSMagics",
        "pprint": "BasicMagics",
        "precision": "BasicMagics",
        "prun": "ExecutionMagics",
        "psearch": "NamespaceMagics",
        "psource": "NamespaceMagics",
        "pushd": "OSMagics",
        "pwd": "OSMagics",
        "pycat": "OSMagics",
        "pylab": "PylabMagics",
        "qtconsole": "KernelMagics",
        "quickref": "BasicMagics",
        "recall": "HistoryMagics",
        "rehashx": "OSMagics",
        "reload_ext": "ExtensionMagics",
        "rep": "Other",
        "rerun": "HistoryMagics",
        "reset": "NamespaceMagics",
        "reset_selective": "NamespaceMagics",
        "rm": "Other",
        "rmdir": "Other",
        "run": "ExecutionMagics",
        "save": "CodeMagics",
        "sc": "OSMagics",
        "set_env": "OSMagics",
        "store": "StoreMagics",
        "sx": "OSMagics",
        "system": "OSMagics",
        "tb": "ExecutionMagics",
        "time": "ExecutionMagics",
        "timeit": "ExecutionMagics",
        "unalias": "OSMagics",
        "unload_ext": "ExtensionMagics",
        "who": "NamespaceMagics",
        "who_ls": "NamespaceMagics",
        "whos": "NamespaceMagics",
        "xdel": "NamespaceMagics",
        "xmode": "BasicMagics"
       }
      },
      "text/plain": [
       "Available line magics:\n",
       "%alias  %alias_magic  %autoawait  %autocall  %automagic  %autosave  %bookmark  %cat  %cd  %clear  %colors  %conda  %config  %connect_info  %cp  %debug  %dhist  %dirs  %doctest_mode  %ed  %edit  %env  %gui  %hist  %history  %killbgscripts  %ldir  %less  %lf  %lk  %ll  %load  %load_ext  %loadpy  %logoff  %logon  %logstart  %logstate  %logstop  %ls  %lsmagic  %lx  %macro  %magic  %man  %matplotlib  %mkdir  %more  %mv  %notebook  %page  %pastebin  %pdb  %pdef  %pdoc  %pfile  %pinfo  %pinfo2  %pip  %popd  %pprint  %precision  %prun  %psearch  %psource  %pushd  %pwd  %pycat  %pylab  %qtconsole  %quickref  %recall  %rehashx  %reload_ext  %rep  %rerun  %reset  %reset_selective  %rm  %rmdir  %run  %save  %sc  %set_env  %store  %sx  %system  %tb  %time  %timeit  %unalias  %unload_ext  %who  %who_ls  %whos  %xdel  %xmode\n",
       "\n",
       "Available cell magics:\n",
       "%%!  %%HTML  %%SVG  %%bash  %%capture  %%debug  %%file  %%html  %%javascript  %%js  %%latex  %%markdown  %%perl  %%prun  %%pypy  %%python  %%python2  %%python3  %%ruby  %%script  %%sh  %%svg  %%sx  %%system  %%time  %%timeit  %%writefile\n",
       "\n",
       "Automagic is ON, % prefix IS NOT needed for line magics."
      ]
     },
     "execution_count": 11,
     "metadata": {},
     "output_type": "execute_result"
    }
   ],
   "source": [
    "%lsmagic"
   ]
  },
  {
   "cell_type": "code",
   "execution_count": 12,
   "metadata": {
    "collapsed": false
   },
   "outputs": [
    {
     "name": "stderr",
     "output_type": "stream",
     "text": [
      "UsageError: %%bash is a cell magic, but the cell body is empty.\n"
     ]
    }
   ],
   "source": [
    "%%bash PS1='$'"
   ]
  },
  {
   "cell_type": "markdown",
   "metadata": {},
   "source": [
    "# Readlines"
   ]
  },
  {
   "cell_type": "code",
   "execution_count": null,
   "metadata": {
    "collapsed": true
   },
   "outputs": [],
   "source": [
    "import sys\n",
    "sample_list= []\n",
    "col_list = [] \n",
    "f = open('./data/ryno_project/P3764_P1456.LMO.indiv.MAGs.merged.raw_counts.tsv', 'r+')"
   ]
  },
  {
   "cell_type": "code",
   "execution_count": null,
   "metadata": {
    "collapsed": false
   },
   "outputs": [],
   "source": [
    "alllines = f.readlines()\n",
    "#alllines = alllines.strip()\n",
    "firstline = alllines[0]\n",
    "firstline = firstline.split()\n",
    "print(firstline)\n",
    "for i in firstline:    \n",
    "    print(i)\n",
    "    col_list.append(i)\n",
    "    if len(i) == 6:\n",
    "        sample_list.append(i)\n",
    "print(col_list)\n",
    "print(sample_list)\n"
   ]
  },
  {
   "cell_type": "code",
   "execution_count": null,
   "metadata": {
    "collapsed": false
   },
   "outputs": [],
   "source": [
    "mags_list = []\n",
    "gene_list = []\n",
    "for row in alllines[1:]:\n",
    "    temp_row = row\n",
    "    temp_row = temp_row.split()\n",
    "    mags_list.append(temp_row[0])\n",
    "    gene_list.append(temp_row[2])\n",
    "    #print(temp_row)\n",
    "print(mags_list[1], gene_list[1])\n"
   ]
  },
  {
   "cell_type": "markdown",
   "metadata": {},
   "source": [
    "# Read"
   ]
  },
  {
   "cell_type": "code",
   "execution_count": null,
   "metadata": {
    "collapsed": false
   },
   "outputs": [],
   "source": [
    "sample_list= []\n",
    "f = open('../../data/ryno_project/P3764_P1456.LMO.indiv.MAGs.merged.raw_counts.tsv', 'r+')\n",
    "#print(f)\n",
    "fread = f.read()\n",
    "fread = fread.split('\\n')\n",
    "#alllines = alllines.strip()\n",
    "#alllines = alllines.split('\\n')\n",
    "\n",
    "print(fread[0:6])\n",
    "\n",
    "#for line in fread:\n",
    " #print(line[0:6])"
   ]
  },
  {
   "cell_type": "markdown",
   "metadata": {},
   "source": [
    "## Redirecting plan to parse data ##"
   ]
  },
  {
   "cell_type": "markdown",
   "metadata": {},
   "source": [
    "* New plan is to use a NumPy array method * After a Datacamp importing data into Python lesson."
   ]
  },
  {
   "cell_type": "code",
   "execution_count": null,
   "metadata": {
    "collapsed": false
   },
   "outputs": [],
   "source": [
    "import numpy as np\n",
    "file = '../../data/ryno_project/P3764_P1456.LMO.indiv.MAGs.merged.raw_counts.tsv'\n",
    "\n",
    "data = np.loadtxt(file, delimiter= '\\t', dtype= str)\n",
    "print(data)"
   ]
  },
  {
   "cell_type": "code",
   "execution_count": null,
   "metadata": {
    "collapsed": false
   },
   "outputs": [],
   "source": [
    "data = np.genfromtxt(file, delimiter= '\\t', names=True, dtype= None)\n",
    "print(data)\n",
    "print(np.shape(data))\n",
    "\n",
    "print(data[0])"
   ]
  },
  {
   "cell_type": "code",
   "execution_count": null,
   "metadata": {
    "collapsed": false
   },
   "outputs": [],
   "source": [
    "print(data['Gene'])\n",
    "print(data['MAG'])"
   ]
  },
  {
   "cell_type": "markdown",
   "metadata": {},
   "source": [
    "### Using Pandas ###"
   ]
  },
  {
   "cell_type": "code",
   "execution_count": null,
   "metadata": {
    "collapsed": false
   },
   "outputs": [],
   "source": [
    "import pandas as pd\n",
    "df= pd.read_table(file)\n",
    "print(df.head())"
   ]
  },
  {
   "cell_type": "code",
   "execution_count": null,
   "metadata": {
    "collapsed": false
   },
   "outputs": [],
   "source": [
    "pwd"
   ]
  },
  {
   "cell_type": "code",
   "execution_count": null,
   "metadata": {
    "collapsed": true
   },
   "outputs": [],
   "source": [
    "import numpy as np\n",
    "import pandas as pd\n",
    "import matplotlib.pyplot as plt"
   ]
  },
  {
   "cell_type": "code",
   "execution_count": null,
   "metadata": {
    "collapsed": true
   },
   "outputs": [],
   "source": [
    "file1 = '../../data/ryno_project/P3764_P1456.LMO.indiv.MAGs.merged.raw_counts.tsv'\n",
    "file2 = '../../data/ryno_project/AF2-SCG present in each bin.tsv'\n",
    "file3 = '../../data/ryno_project/LMO_time_series_Metadata_to_Barbel_mod.txt'\n",
    "file4 = '../../data/ryno_project/reference_genomes.xlsx'\n",
    "\n",
    "idfile1 = '../../data/ryno_project/LMO.indiv.MAGs.merged.COG.tsv'\n",
    "idfile2 = '../../data/ryno_project/LMO.indiv.MAGs.merged.EC.tsv'\n",
    "idfile3 = '../../data/ryno_project/LMO.indiv.MAGs.merged.PFAM.tsv'\n",
    "idfile4 = '../../data/ryno_project/LMO.indiv.MAGs.merged.TIGRFAM.tsv'"
   ]
  },
  {
   "cell_type": "markdown",
   "metadata": {},
   "source": [
    "## File1 - pandas import and creating DataFrame"
   ]
  },
  {
   "cell_type": "code",
   "execution_count": null,
   "metadata": {
    "collapsed": false
   },
   "outputs": [],
   "source": [
    "#################Head of the whole of file1#################\n",
    "print(str(file1))\n",
    "df= pd.read_table(file1)\n",
    "print(df.head())\n",
    "\n",
    "#print(df.index)\n",
    "#print(df.columns)\n",
    "#print(df.shape)\n",
    "#print(type(df))\n",
    "#print(type(df.index))\n",
    "#print(df.iloc[:5,:])   #First 5\n",
    "#print(df.iloc[-5:,:])  #Last 5\n",
    "print(df.info())\n",
    "print('\\n')\n",
    "print('\\n')\n",
    "print('\\n')\n"
   ]
  },
  {
   "cell_type": "markdown",
   "metadata": {},
   "source": [
    "# File2 - pandas import and creating DataFrame"
   ]
  },
  {
   "cell_type": "code",
   "execution_count": null,
   "metadata": {
    "collapsed": false,
    "scrolled": true
   },
   "outputs": [],
   "source": [
    "#################Head of the whole of file2#################\n",
    "print(str(file2))\n",
    "df= pd.read_table(file2)\n",
    "print(df.head())\n",
    "\n",
    "#print(df.index)\n",
    "#print(df.columns)\n",
    "#print(df.shape)\n",
    "#print(type(df))\n",
    "#print(type(df.index))\n",
    "#print(df.iloc[:5,:])   #First 5\n",
    "#print(df.iloc[-5:,:])  #Last 5\n",
    "print(df.info())\n",
    "print('\\n')\n",
    "print('\\n')\n",
    "print('\\n')"
   ]
  },
  {
   "cell_type": "markdown",
   "metadata": {},
   "source": [
    "## File 3 - pandas import and creating DataFrame"
   ]
  },
  {
   "cell_type": "code",
   "execution_count": null,
   "metadata": {
    "collapsed": false
   },
   "outputs": [],
   "source": [
    "#################Head of the whole of file3#################\n",
    "print(str(file3))\n",
    "df= pd.read_table(file3)\n",
    "print(df.head())\n",
    "\n",
    "#print(df.index)\n",
    "#print(df.columns)\n",
    "#print(df.shape)\n",
    "#print(type(df))\n",
    "#print(type(df.index))\n",
    "#print(df.iloc[:5,:])   #First 5\n",
    "#print(df.iloc[-5:,:])  #Last 5\n",
    "print(df.info())\n",
    "print('\\n')\n",
    "print('\\n')\n",
    "print('\\n')\n"
   ]
  },
  {
   "cell_type": "markdown",
   "metadata": {},
   "source": [
    "## File4 - pandas import and creating DataFrame"
   ]
  },
  {
   "cell_type": "code",
   "execution_count": null,
   "metadata": {
    "collapsed": false
   },
   "outputs": [],
   "source": [
    "\n",
    "#################Head of the whole of file4#################\n",
    "print(str(file4))\n",
    "df= pd.ExcelFile(file4)\n",
    "print(df.sheet_names)\n",
    "df1 = df.parse(0)\n",
    "df1.head()\n",
    "#print(df1.index)\n",
    "#print(df1.columns)\n",
    "#print(df1.shape)\n",
    "#print(type(df1))\n",
    "#print(type(df1.index))\n",
    "#print(df1.iloc[:5,:])   #First 5\n",
    "#print(df1.iloc[-5:,:])  #Last 5\n",
    "print(df1.info())\n",
    "\n",
    "df1['Phylogeny']\n"
   ]
  },
  {
   "cell_type": "markdown",
   "metadata": {},
   "source": [
    "## IDFile1 - pandas import and creating DataFrame"
   ]
  },
  {
   "cell_type": "code",
   "execution_count": null,
   "metadata": {
    "collapsed": false
   },
   "outputs": [],
   "source": [
    "#################Head of the whole of idfile1#################\n",
    "print('\\n')\n",
    "print('\\n')\n",
    "print('\\n')\n",
    "df= pd.read_table(idfile1)\n",
    "print(df.head())\n",
    "\n",
    "#print(df.index)\n",
    "#print(df.columns)\n",
    "#print(df.shape)\n",
    "#print(type(df))\n",
    "#print(type(df.index))\n",
    "#print(df.iloc[:5,:])   #First 5\n",
    "#print(df.iloc[-5:,:])  #Last 5\n",
    "print(df.info())\n",
    "\n",
    "\n"
   ]
  },
  {
   "cell_type": "markdown",
   "metadata": {},
   "source": [
    "## IDFile2 - pandas import and creating DataFramem"
   ]
  },
  {
   "cell_type": "code",
   "execution_count": null,
   "metadata": {
    "collapsed": false
   },
   "outputs": [],
   "source": [
    "#################Head of the whole of idfile2#################\n",
    "print('\\n')\n",
    "print('\\n')\n",
    "print('\\n')\n",
    "print(str(idfile2))\n",
    "df= pd.read_table(idfile2)\n",
    "print(df.head())\n",
    "\n",
    "#print(df.index)\n",
    "#print(df.columns)\n",
    "#print(df.shape)\n",
    "#print(type(df))\n",
    "#print(type(df.index))\n",
    "#print(df.iloc[:5,:])   #First 5\n",
    "#print(df.iloc[-5:,:])  #Last 5\n",
    "print(df.info())\n",
    "print('\\n')\n",
    "print('\\n')\n",
    "print('\\n')\n",
    "\n"
   ]
  },
  {
   "cell_type": "code",
   "execution_count": null,
   "metadata": {
    "collapsed": true
   },
   "outputs": [],
   "source": []
  },
  {
   "cell_type": "markdown",
   "metadata": {},
   "source": [
    "## IDFile3 - pandas import and creating DataFrame"
   ]
  },
  {
   "cell_type": "code",
   "execution_count": null,
   "metadata": {
    "collapsed": false
   },
   "outputs": [],
   "source": [
    "#################Head of the whole of idfile3#################\n",
    "print(str(idfile3))\n",
    "df= pd.read_table(idfile3)\n",
    "print(df.head())\n",
    "\n",
    "#print(df.index)\n",
    "#print(df.columns)\n",
    "#print(df.shape)\n",
    "#print(type(df))\n",
    "#print(type(df.index))\n",
    "#print(df.iloc[:5,:])   #First 5\n",
    "#print(df.iloc[-5:,:])  #Last 5\n",
    "print(df.info())\n",
    "print('\\n')\n",
    "print('\\n')\n",
    "print('\\n')\n",
    "\n"
   ]
  },
  {
   "cell_type": "markdown",
   "metadata": {},
   "source": [
    "## IDFile4 - pandas import and creating DataFrame"
   ]
  },
  {
   "cell_type": "code",
   "execution_count": null,
   "metadata": {
    "collapsed": false
   },
   "outputs": [],
   "source": [
    "#################Head of the whole of idfile4#################\n",
    "print(str(idfile4))\n",
    "df= pd.read_table(idfile4)\n",
    "print(df.head())\n",
    "\n",
    "#print(df.index)\n",
    "#print(df.columns)\n",
    "#print(df.shape)\n",
    "#print(type(df))\n",
    "#print(type(df.index))\n",
    "#print(df.iloc[:5,:])   #First 5\n",
    "#print(df.iloc[-5:,:])  #Last 5\n",
    "print(df.info())\n",
    "print('\\n')\n",
    "print('\\n')\n",
    "print('\\n')"
   ]
  },
  {
   "cell_type": "code",
   "execution_count": null,
   "metadata": {},
   "outputs": [],
   "source": []
  }
 ],
 "metadata": {
  "anaconda-cloud": {},
  "kernelspec": {
   "display_name": "Python 3",
   "language": "python",
   "name": "python3"
  },
  "language_info": {
   "codemirror_mode": {
    "name": "ipython",
    "version": 3
   },
   "file_extension": ".py",
   "mimetype": "text/x-python",
   "name": "python",
   "nbconvert_exporter": "python",
   "pygments_lexer": "ipython3",
   "version": "3.7.3"
  }
 },
 "nbformat": 4,
 "nbformat_minor": 2
}
