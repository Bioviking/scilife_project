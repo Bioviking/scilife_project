{
 "cells": [
  {
   "cell_type": "markdown",
   "metadata": {},
   "source": [
    "# Scilife Summer Project in Environmental Genomics\n",
    "\n",
    "## Summer project with the Envgen group at Science for life laboratory\n",
    "\n",
    "In this project I will be working with the following data files supplied by Anders Andersson:\n",
    "\n",
    "(root paths)\n",
    "\n",
    "### General data file featuring Metatranscriptomic data such as MAGS, samples and genes\n",
    "\n",
    "    ./data/ryno_project/P3764_P1456.LMO.indiv.MAGs.merged.raw_counts.tsv\n",
    "    ./data/ryno_project/.~lock.P3764_P1456.LMO.indiv.MAGs.merged.raw_counts.tsv\n",
    "\n",
    "### The environmental metadata for the LMO station at the time of sampling\n",
    "\n",
    "    ./data/ryno_project/LMO_time_series_Metadata_to_Barbel_mod.txt\n",
    "    ./data/ryno_project/AF2-SCG present in each bin.tsv\n",
    "    ./data/ryno_project/reference_genomes.xlsx\n",
    "\n",
    "### The annotated genes and the corresponding gene ID tags from the COG, EC, Pfam and TIGRFAM database:\n",
    "\n",
    "    ./data/ryno_project/LMO.indiv.MAGs.merged.COG.tsv\n",
    "    ./data/ryno_project/LMO.indiv.MAGs.merged.EC.tsv\n",
    "    ./data/ryno_project/LMO.indiv.MAGs.merged.PFAM.tsv\n",
    "    ./data/ryno_project/LMO.indiv.MAGs.merged.TIGRFAM.tsv\n",
    "\n"
   ]
  },
  {
   "cell_type": "markdown",
   "metadata": {},
   "source": [
    "** Importing in the software module and assing them to variables **"
   ]
  },
  {
   "cell_type": "code",
   "execution_count": null,
   "metadata": {
    "collapsed": true
   },
   "outputs": [],
   "source": []
  },
  {
   "cell_type": "code",
   "execution_count": null,
   "metadata": {
    "collapsed": true
   },
   "outputs": [],
   "source": []
  },
  {
   "cell_type": "code",
   "execution_count": 7,
   "metadata": {
    "collapsed": true
   },
   "outputs": [],
   "source": [
    "import pandas as pd\n",
    "import seaborn as sns\n",
    "import matplotlib.pyplot as plt"
   ]
  },
  {
   "cell_type": "markdown",
   "metadata": {},
   "source": [
    "** Data file assignment for the importing of the data into the script **"
   ]
  },
  {
   "cell_type": "code",
   "execution_count": 8,
   "metadata": {
    "collapsed": true
   },
   "outputs": [],
   "source": [
    "file1 = '../../data/ryno_project/P3764_P1456.LMO.indiv.MAGs.merged.raw_counts.tsv'\n",
    "file2 = '../../data/ryno_project/AF2-SCG present in each bin.tsv'\n",
    "file3 = '../../data/ryno_project/LMO_time_series_Metadata_to_Barbel_mod.txt'\n",
    "file4 = '../../data/ryno_project/reference_genomes.xlsx'\n",
    "\n",
    "idfile1 = '../../data/ryno_project/LMO.indiv.MAGs.merged.COG.tsv'\n",
    "idfile2 = '../../data/ryno_project/LMO.indiv.MAGs.merged.EC.tsv'\n",
    "idfile3 = '../../data/ryno_project/LMO.indiv.MAGs.merged.PFAM.tsv'\n",
    "idfile4 = '../../data/ryno_project/LMO.indiv.MAGs.merged.TIGRFAM.tsv'"
   ]
  },
  {
   "cell_type": "markdown",
   "metadata": {},
   "source": [
    "** file1 = '../../data/ryno_project/P3764_P1456.LMO.indiv.MAGs.merged.raw_counts.tsv' **\n",
    "\n"
   ]
  },
  {
   "cell_type": "markdown",
   "metadata": {},
   "source": [
    "# File1 - pandas import and creating DataFrame\n",
    "\n",
    "** file1 = '../../data/ryno_project/P3764_P1456.LMO.indiv.MAGs.merged.raw_counts.tsv' **"
   ]
  },
  {
   "cell_type": "code",
   "execution_count": 10,
   "metadata": {
    "collapsed": false
   },
   "outputs": [
    {
     "name": "stdout",
     "output_type": "stream",
     "text": [
      "  MAG\\tGene\\t120516\\t120613\\t120712\\t120813\\t120927\\t121024\\t121220\\t130123\\t130226\\t130403\\t130416\\t130422\\t130507\\t130605\\t130705\\t130815\\t130905\\t131003\\t140408\\t140506\\t140604\\t140709\\t140820\\t140916\\t141013\n",
      "0  120619-bin32\\tPROKKA_MOD_00689\\t0\\t11\\t25\\t1\\t...                                                                                                                                                               \n",
      "1  120619-bin32\\tPROKKA_MOD_00688\\t0\\t2\\t17\\t0\\t1...                                                                                                                                                               \n",
      "2  120924-bin39\\tPROKKA_MOD_01386\\t4\\t0\\t0\\t0\\t6\\...                                                                                                                                                               \n",
      "3  120619-bin32\\tPROKKA_MOD_00681\\t0\\t3\\t1\\t18\\t0...                                                                                                                                                               \n",
      "4  120619-bin32\\tPROKKA_MOD_00680\\t0\\t30\\t18\\t1\\t...                                                                                                                                                               \n",
      "<class 'pandas.core.frame.DataFrame'>\n",
      "RangeIndex: 146649 entries, 0 to 146648\n",
      "Data columns (total 1 columns):\n",
      "MAG\tGene\t120516\t120613\t120712\t120813\t120927\t121024\t121220\t130123\t130226\t130403\t130416\t130422\t130507\t130605\t130705\t130815\t130905\t131003\t140408\t140506\t140604\t140709\t140820\t140916\t141013    146649 non-null object\n",
      "dtypes: object(1)\n",
      "memory usage: 1.1+ MB\n",
      "None\n",
      "\n",
      "\n",
      "\n",
      "\n",
      "\n",
      "\n"
     ]
    }
   ],
   "source": [
    "#################Head of the whole of file1#################\n",
    "raw_df= pd.read_csv(file1)\n",
    "print(raw_df.head())\n",
    "\n",
    "print(raw_df.info())\n",
    "print('\\n')\n",
    "print('\\n')\n",
    "print('\\n')"
   ]
  },
  {
   "cell_type": "markdown",
   "metadata": {},
   "source": [
    "# File2 - pandas import and creating DataFrame\n",
    "\n",
    "** file2 = '../../data/ryno_project/AF2-SCG present in each bin.tsv' **"
   ]
  },
  {
   "cell_type": "code",
   "execution_count": 11,
   "metadata": {
    "collapsed": false
   },
   "outputs": [
    {
     "name": "stdout",
     "output_type": "stream",
     "text": [
      "../../data/ryno_project/AF2-SCG present in each bin.tsv\n",
      "  Cluster\\tBin\\tNo.Contigs\\tNo.Bases\\tN50\\tN50_length\\tN90\\tN90_length\\tLongest_contig\\tCoverage within sample\\tPhylogeny\\tCoreSCG:COG0016\\tCOG0048\\tCOG0049\\tCOG0051\\tCOG0052\\tCOG0060\\tCOG0072\\tCOG0080\\tCOG0081\\tCOG0087\\tCOG0088\\tCOG0089\\tCOG0090\\tCOG0091\\tCOG0092\\tCOG0093\\tCOG0094\\tCOG0096\\tCOG0097\\tCOG0100\\tCOG0102\\tCOG0103\\tCOG0130\\tCOG0184\\tCOG0185\\tCOG0186\\tCOG0197\\tCOG0198\\tCOG0200\\tCOG0201\\tCOG0244\\tCOG0256\\tCOG0504\\tCOG0532\\tCOG0541\\tCOG0552\\tExtendedSCG:Acidobacteria==1\\tAcidobacteria>1\\tAcidobacteria_total\\tActinobacteria==1\\tActinobacteria>1\\tActinobacteria_total\\tAlphaproteobacteria==1\\tAlphaproteobacteria>1\\tAlphaproteobacteria_total\\tAquificae==1\\tAquificae>1\\tAquificae_total\\tBacteroidetes==1\\tBacteroidetes>1\\tBacteroidetes_total\\tBetaproteobacteria==1\\tBetaproteobacteria>1\\tBetaproteobacteria_total\\tChlamydiae==1\\tChlamydiae>1\\tChlamydiae_total\\tChlorobi==1\\tChlorobi>1\\tChlorobi_total\\tChloroflexi==1\\tChloroflexi>1\\tChloroflexi_total\\tCrenarchaeota==1\\tCrenarchaeota>1\\tCrenarchaeota_total\\tCyanobacteria==1\\tCyanobacteria>1\\tCyanobacteria_total\\tDeferribacteres==1\\tDeferribacteres>1\\tDeferribacteres_total\\tDeinococcus-Thermus==1\\tDeinococcus-Thermus>1\\tDeinococcus-Thermus_total\\tDeltaproteobacteria==1\\tDeltaproteobacteria>1\\tDeltaproteobacteria_total\\tEpsilonproteobacteria==1\\tEpsilonproteobacteria>1\\tEpsilonproteobacteria_total\\tEuryarchaeota==1\\tEuryarchaeota>1\\tEuryarchaeota_total\\tFirmicutes==1\\tFirmicutes>1\\tFirmicutes_total\\tFusobacteria==1\\tFusobacteria>1\\tFusobacteria_total\\tGammaproteobacteria==1\\tGammaproteobacteria>1\\tGammaproteobacteria_total\\tPlanctomycetes==1\\tPlanctomycetes>1\\tPlanctomycetes_total\\tProteobacteria==1\\tProteobacteria>1\\tProteobacteria_total\\tSpirochaetes==1\\tSpirochaetes>1\\tSpirochaetes_total\\tSynergistetes==1\\tSynergistetes>1\\tSynergistetes_total\\tThermotogae==1\\tThermotogae>1\\tThermotogae_total\\tVerrucomicrobia==1\\tVerrucomicrobia>1\\tVerrucomicrobia_total\n",
      "0  BACL13\\t120910-bin56\\t183\\t1270387\\t30\\t13618\\...                                                                                                                                                                                                                                                                                                                                                                                                                                                                                                                                                                                                                                                                                                                                                                                                                                                                                                                                                                                                                                                                                                                                                                                                                                                                                                                                                                                                                                                                                                                                                                                                                                                                                                                                                                                                                                                                                                                                                          \n",
      "1  BACL13\\t121220-bin23\\t336\\t1086213\\t80\\t3997\\t...                                                                                                                                                                                                                                                                                                                                                                                                                                                                                                                                                                                                                                                                                                                                                                                                                                                                                                                                                                                                                                                                                                                                                                                                                                                                                                                                                                                                                                                                                                                                                                                                                                                                                                                                                                                                                                                                                                                                                          \n",
      "2  BACL15\\t120619-bin91\\t374\\t1001092\\t97\\t3136\\t...                                                                                                                                                                                                                                                                                                                                                                                                                                                                                                                                                                                                                                                                                                                                                                                                                                                                                                                                                                                                                                                                                                                                                                                                                                                                                                                                                                                                                                                                                                                                                                                                                                                                                                                                                                                                                                                                                                                                                          \n",
      "3  BACL15\\t120823-bin78\\t675\\t1997685\\t161\\t3643\\...                                                                                                                                                                                                                                                                                                                                                                                                                                                                                                                                                                                                                                                                                                                                                                                                                                                                                                                                                                                                                                                                                                                                                                                                                                                                                                                                                                                                                                                                                                                                                                                                                                                                                                                                                                                                                                                                                                                                                          \n",
      "4  BACL2\\t120507-bin38\\t222\\t1482147\\t31\\t15137\\t...                                                                                                                                                                                                                                                                                                                                                                                                                                                                                                                                                                                                                                                                                                                                                                                                                                                                                                                                                                                                                                                                                                                                                                                                                                                                                                                                                                                                                                                                                                                                                                                                                                                                                                                                                                                                                                                                                                                                                          \n",
      "<class 'pandas.core.frame.DataFrame'>\n",
      "RangeIndex: 83 entries, 0 to 82\n",
      "Data columns (total 1 columns):\n",
      "Cluster\tBin\tNo.Contigs\tNo.Bases\tN50\tN50_length\tN90\tN90_length\tLongest_contig\tCoverage within sample\tPhylogeny\tCoreSCG:COG0016\tCOG0048\tCOG0049\tCOG0051\tCOG0052\tCOG0060\tCOG0072\tCOG0080\tCOG0081\tCOG0087\tCOG0088\tCOG0089\tCOG0090\tCOG0091\tCOG0092\tCOG0093\tCOG0094\tCOG0096\tCOG0097\tCOG0100\tCOG0102\tCOG0103\tCOG0130\tCOG0184\tCOG0185\tCOG0186\tCOG0197\tCOG0198\tCOG0200\tCOG0201\tCOG0244\tCOG0256\tCOG0504\tCOG0532\tCOG0541\tCOG0552\tExtendedSCG:Acidobacteria==1\tAcidobacteria>1\tAcidobacteria_total\tActinobacteria==1\tActinobacteria>1\tActinobacteria_total\tAlphaproteobacteria==1\tAlphaproteobacteria>1\tAlphaproteobacteria_total\tAquificae==1\tAquificae>1\tAquificae_total\tBacteroidetes==1\tBacteroidetes>1\tBacteroidetes_total\tBetaproteobacteria==1\tBetaproteobacteria>1\tBetaproteobacteria_total\tChlamydiae==1\tChlamydiae>1\tChlamydiae_total\tChlorobi==1\tChlorobi>1\tChlorobi_total\tChloroflexi==1\tChloroflexi>1\tChloroflexi_total\tCrenarchaeota==1\tCrenarchaeota>1\tCrenarchaeota_total\tCyanobacteria==1\tCyanobacteria>1\tCyanobacteria_total\tDeferribacteres==1\tDeferribacteres>1\tDeferribacteres_total\tDeinococcus-Thermus==1\tDeinococcus-Thermus>1\tDeinococcus-Thermus_total\tDeltaproteobacteria==1\tDeltaproteobacteria>1\tDeltaproteobacteria_total\tEpsilonproteobacteria==1\tEpsilonproteobacteria>1\tEpsilonproteobacteria_total\tEuryarchaeota==1\tEuryarchaeota>1\tEuryarchaeota_total\tFirmicutes==1\tFirmicutes>1\tFirmicutes_total\tFusobacteria==1\tFusobacteria>1\tFusobacteria_total\tGammaproteobacteria==1\tGammaproteobacteria>1\tGammaproteobacteria_total\tPlanctomycetes==1\tPlanctomycetes>1\tPlanctomycetes_total\tProteobacteria==1\tProteobacteria>1\tProteobacteria_total\tSpirochaetes==1\tSpirochaetes>1\tSpirochaetes_total\tSynergistetes==1\tSynergistetes>1\tSynergistetes_total\tThermotogae==1\tThermotogae>1\tThermotogae_total\tVerrucomicrobia==1\tVerrucomicrobia>1\tVerrucomicrobia_total    83 non-null object\n",
      "dtypes: object(1)\n",
      "memory usage: 744.0+ bytes\n",
      "None\n",
      "\n",
      "\n",
      "\n",
      "\n",
      "\n",
      "\n"
     ]
    }
   ],
   "source": [
    "#################Head of the whole of file2#################\n",
    "print(str(file2))\n",
    "scg_df= pd.read_csv(file2)\n",
    "print(scg_df.head())\n",
    "\n",
    "#print(scg_df.index)\n",
    "#print(scg_df.columns)\n",
    "#print(scg_df.shape)\n",
    "#print(type(scg_df))\n",
    "#print(type(scg_df.index))\n",
    "#print(scg_df.iloc[:5,:])   #First 5\n",
    "#print(scg_df.iloc[-5:,:])  #Last 5\n",
    "print(scg_df.info())\n",
    "print('\\n')\n",
    "print('\\n')\n",
    "print('\\n')"
   ]
  },
  {
   "cell_type": "markdown",
   "metadata": {},
   "source": [
    "# File3 - pandas import and creating DataFrame\n",
    "** file3 = '../../data/ryno_project/LMO_time_series_Metadata_to_Barbel_mod.txt' **"
   ]
  },
  {
   "cell_type": "code",
   "execution_count": 12,
   "metadata": {
    "collapsed": false
   },
   "outputs": [
    {
     "name": "stdout",
     "output_type": "stream",
     "text": [
      "../../data/ryno_project/LMO_time_series_Metadata_to_Barbel_mod.txt\n",
      "  Original order\\tDate\\tYear\\tMonth\\tDay\\tTemperature\\tSalinity\\tChla \\tNitrate \\tPhosphate \\tSilicate \\tAmmonium \\tDOC \\tTotalN\\tBacterialAbundance\\tBacterialProduction\\tBacterialProduction\n",
      "0  1\\t25-03-11\\t2011\\t3\\t25\\t1.5\\t6.35\\t1.323\\t2....                                                                                                                                          \n",
      "1  2\\t30-03-11\\t2011\\t3\\t30\\t1.5\\t6.5\\t1.486\\t2.1...                                                                                                                                          \n",
      "2  3\\t11-04-11\\t2011\\t4\\t11\\t2.4\\t6.3\\t4.601\\t1.0...                                                                                                                                          \n",
      "3  4\\t14-04-11\\t2011\\t4\\t14\\t2.5\\t6.5\\t13.454\\t0....                                                                                                                                          \n",
      "4  5\\t20-04-11\\t2011\\t4\\t20\\t4.3\\t6.3\\t5.879\\t0.3...                                                                                                                                          \n",
      "<class 'pandas.core.frame.DataFrame'>\n",
      "RangeIndex: 178 entries, 0 to 177\n",
      "Data columns (total 1 columns):\n",
      "Original order\tDate\tYear\tMonth\tDay\tTemperature\tSalinity\tChla \tNitrate \tPhosphate \tSilicate \tAmmonium \tDOC \tTotalN\tBacterialAbundance\tBacterialProduction\tBacterialProduction    178 non-null object\n",
      "dtypes: object(1)\n",
      "memory usage: 1.5+ KB\n",
      "None\n",
      "\n",
      "\n",
      "\n",
      "\n",
      "\n",
      "\n"
     ]
    }
   ],
   "source": [
    "#################Head of the whole of file3#################\n",
    "print(str(file3))\n",
    "meta_df= pd.read_csv(file3)\n",
    "print(meta_df.head())\n",
    "\n",
    "#print(meta_df.index)\n",
    "#print(meta_df.columns)\n",
    "#print(meta_df.shape)\n",
    "#print(type(meta_df))\n",
    "#print(type(meta_df.index))\n",
    "#print(meta_df.iloc[:5,:])   #First 5\n",
    "#print(meta_df.iloc[-5:,:])  #Last 5\n",
    "print(meta_df.info())\n",
    "print('\\n')\n",
    "print('\\n')\n",
    "print('\\n')"
   ]
  },
  {
   "cell_type": "markdown",
   "metadata": {},
   "source": [
    "# File4 - pandas import and creating DataFrame\n",
    "** file4 = '../../data/ryno_project/reference_genomes.xlsx' **"
   ]
  },
  {
   "cell_type": "code",
   "execution_count": 6,
   "metadata": {
    "collapsed": false
   },
   "outputs": [
    {
     "name": "stdout",
     "output_type": "stream",
     "text": [
      "../../data/ryno_project/reference_genomes.xlsx\n"
     ]
    },
    {
     "ename": "ImportError",
     "evalue": "Install xlrd >= 1.0.0 for Excel support",
     "output_type": "error",
     "traceback": [
      "\u001b[0;31m---------------------------------------------------------------------------\u001b[0m",
      "\u001b[0;31mModuleNotFoundError\u001b[0m                       Traceback (most recent call last)",
      "\u001b[0;32m~/miniconda3/envs/myenv/lib/python3.7/site-packages/pandas/io/excel.py\u001b[0m in \u001b[0;36m__init__\u001b[0;34m(self, filepath_or_buffer)\u001b[0m\n\u001b[1;32m    390\u001b[0m         \u001b[0;32mtry\u001b[0m\u001b[0;34m:\u001b[0m\u001b[0;34m\u001b[0m\u001b[0;34m\u001b[0m\u001b[0m\n\u001b[0;32m--> 391\u001b[0;31m             \u001b[0;32mimport\u001b[0m \u001b[0mxlrd\u001b[0m\u001b[0;34m\u001b[0m\u001b[0;34m\u001b[0m\u001b[0m\n\u001b[0m\u001b[1;32m    392\u001b[0m         \u001b[0;32mexcept\u001b[0m \u001b[0mImportError\u001b[0m\u001b[0;34m:\u001b[0m\u001b[0;34m\u001b[0m\u001b[0;34m\u001b[0m\u001b[0m\n",
      "\u001b[0;31mModuleNotFoundError\u001b[0m: No module named 'xlrd'",
      "\nDuring handling of the above exception, another exception occurred:\n",
      "\u001b[0;31mImportError\u001b[0m                               Traceback (most recent call last)",
      "\u001b[0;32m<ipython-input-6-2dd04c1186d6>\u001b[0m in \u001b[0;36m<module>\u001b[0;34m\u001b[0m\n\u001b[1;32m      1\u001b[0m \u001b[0;31m#################Head of the whole of file4#################\u001b[0m\u001b[0;34m\u001b[0m\u001b[0;34m\u001b[0m\u001b[0;34m\u001b[0m\u001b[0m\n\u001b[1;32m      2\u001b[0m \u001b[0mprint\u001b[0m\u001b[0;34m(\u001b[0m\u001b[0mstr\u001b[0m\u001b[0;34m(\u001b[0m\u001b[0mfile4\u001b[0m\u001b[0;34m)\u001b[0m\u001b[0;34m)\u001b[0m\u001b[0;34m\u001b[0m\u001b[0;34m\u001b[0m\u001b[0m\n\u001b[0;32m----> 3\u001b[0;31m \u001b[0mref_df\u001b[0m\u001b[0;34m=\u001b[0m \u001b[0mpd\u001b[0m\u001b[0;34m.\u001b[0m\u001b[0mExcelFile\u001b[0m\u001b[0;34m(\u001b[0m\u001b[0mfile4\u001b[0m\u001b[0;34m)\u001b[0m\u001b[0;34m\u001b[0m\u001b[0;34m\u001b[0m\u001b[0m\n\u001b[0m\u001b[1;32m      4\u001b[0m \u001b[0mprint\u001b[0m\u001b[0;34m(\u001b[0m\u001b[0mref_df\u001b[0m\u001b[0;34m.\u001b[0m\u001b[0msheet_names\u001b[0m\u001b[0;34m)\u001b[0m\u001b[0;34m\u001b[0m\u001b[0;34m\u001b[0m\u001b[0m\n\u001b[1;32m      5\u001b[0m \u001b[0mref_df1\u001b[0m \u001b[0;34m=\u001b[0m \u001b[0mref_df\u001b[0m\u001b[0;34m.\u001b[0m\u001b[0mparse\u001b[0m\u001b[0;34m(\u001b[0m\u001b[0;36m0\u001b[0m\u001b[0;34m)\u001b[0m\u001b[0;34m\u001b[0m\u001b[0;34m\u001b[0m\u001b[0m\n",
      "\u001b[0;32m~/miniconda3/envs/myenv/lib/python3.7/site-packages/pandas/io/excel.py\u001b[0m in \u001b[0;36m__init__\u001b[0;34m(self, io, engine)\u001b[0m\n\u001b[1;32m    651\u001b[0m         \u001b[0mself\u001b[0m\u001b[0;34m.\u001b[0m\u001b[0m_io\u001b[0m \u001b[0;34m=\u001b[0m \u001b[0m_stringify_path\u001b[0m\u001b[0;34m(\u001b[0m\u001b[0mio\u001b[0m\u001b[0;34m)\u001b[0m\u001b[0;34m\u001b[0m\u001b[0;34m\u001b[0m\u001b[0m\n\u001b[1;32m    652\u001b[0m \u001b[0;34m\u001b[0m\u001b[0m\n\u001b[0;32m--> 653\u001b[0;31m         \u001b[0mself\u001b[0m\u001b[0;34m.\u001b[0m\u001b[0m_reader\u001b[0m \u001b[0;34m=\u001b[0m \u001b[0mself\u001b[0m\u001b[0;34m.\u001b[0m\u001b[0m_engines\u001b[0m\u001b[0;34m[\u001b[0m\u001b[0mengine\u001b[0m\u001b[0;34m]\u001b[0m\u001b[0;34m(\u001b[0m\u001b[0mself\u001b[0m\u001b[0;34m.\u001b[0m\u001b[0m_io\u001b[0m\u001b[0;34m)\u001b[0m\u001b[0;34m\u001b[0m\u001b[0;34m\u001b[0m\u001b[0m\n\u001b[0m\u001b[1;32m    654\u001b[0m \u001b[0;34m\u001b[0m\u001b[0m\n\u001b[1;32m    655\u001b[0m     \u001b[0;32mdef\u001b[0m \u001b[0m__fspath__\u001b[0m\u001b[0;34m(\u001b[0m\u001b[0mself\u001b[0m\u001b[0;34m)\u001b[0m\u001b[0;34m:\u001b[0m\u001b[0;34m\u001b[0m\u001b[0;34m\u001b[0m\u001b[0m\n",
      "\u001b[0;32m~/miniconda3/envs/myenv/lib/python3.7/site-packages/pandas/io/excel.py\u001b[0m in \u001b[0;36m__init__\u001b[0;34m(self, filepath_or_buffer)\u001b[0m\n\u001b[1;32m    391\u001b[0m             \u001b[0;32mimport\u001b[0m \u001b[0mxlrd\u001b[0m\u001b[0;34m\u001b[0m\u001b[0;34m\u001b[0m\u001b[0m\n\u001b[1;32m    392\u001b[0m         \u001b[0;32mexcept\u001b[0m \u001b[0mImportError\u001b[0m\u001b[0;34m:\u001b[0m\u001b[0;34m\u001b[0m\u001b[0;34m\u001b[0m\u001b[0m\n\u001b[0;32m--> 393\u001b[0;31m             \u001b[0;32mraise\u001b[0m \u001b[0mImportError\u001b[0m\u001b[0;34m(\u001b[0m\u001b[0merr_msg\u001b[0m\u001b[0;34m)\u001b[0m\u001b[0;34m\u001b[0m\u001b[0;34m\u001b[0m\u001b[0m\n\u001b[0m\u001b[1;32m    394\u001b[0m         \u001b[0;32melse\u001b[0m\u001b[0;34m:\u001b[0m\u001b[0;34m\u001b[0m\u001b[0;34m\u001b[0m\u001b[0m\n\u001b[1;32m    395\u001b[0m             \u001b[0;32mif\u001b[0m \u001b[0mxlrd\u001b[0m\u001b[0;34m.\u001b[0m\u001b[0m__VERSION__\u001b[0m \u001b[0;34m<\u001b[0m \u001b[0mLooseVersion\u001b[0m\u001b[0;34m(\u001b[0m\u001b[0;34m\"1.0.0\"\u001b[0m\u001b[0;34m)\u001b[0m\u001b[0;34m:\u001b[0m\u001b[0;34m\u001b[0m\u001b[0;34m\u001b[0m\u001b[0m\n",
      "\u001b[0;31mImportError\u001b[0m: Install xlrd >= 1.0.0 for Excel support"
     ]
    }
   ],
   "source": [
    "#################Head of the whole of file4#################\n",
    "print(str(file4))\n",
    "ref_df= pd.ExcelFile(file4)\n",
    "print(ref_df.sheet_names)\n",
    "ref_df1 = ref_df.parse(0)\n",
    "print(ref_df1.head())\n",
    "#print(ref_df1.index)\n",
    "#print(ref_df1.columns)\n",
    "#print(ref_df1.shape)\n",
    "#print(type(ref_df1))\n",
    "#print(type(ref_df1.index))\n",
    "#print(ref_df1.iloc[:5,:])   #First 5\n",
    "#print(ref_df1.iloc[-5:,:])  #Last 5\n",
    "print(ref_df1.info())\n",
    "\n",
    "#ref_df1['Phylogeny']"
   ]
  },
  {
   "cell_type": "markdown",
   "metadata": {},
   "source": [
    "# IDFile1 - pandas import and creating DataFrame\n",
    "** idfile1 = '../../data/ryno_project/LMO.indiv.MAGs.merged.COG.tsv' **\n"
   ]
  },
  {
   "cell_type": "code",
   "execution_count": 13,
   "metadata": {
    "collapsed": false
   },
   "outputs": [
    {
     "name": "stdout",
     "output_type": "stream",
     "text": [
      "\n",
      "\n",
      "\n",
      "\n",
      "\n",
      "\n",
      "                                        0\n",
      "0  120322-bin51|PROKKA_MOD_00001\\tCOG0001\n",
      "1  120322-bin51|PROKKA_MOD_00002\\tCOG0171\n",
      "2  120322-bin51|PROKKA_MOD_00003\\tCOG1538\n",
      "3  120322-bin51|PROKKA_MOD_00004\\tCOG0424\n",
      "4  120322-bin51|PROKKA_MOD_00006\\tCOG0564\n",
      "<class 'pandas.core.frame.DataFrame'>\n",
      "RangeIndex: 88448 entries, 0 to 88447\n",
      "Data columns (total 1 columns):\n",
      "0    88448 non-null object\n",
      "dtypes: object(1)\n",
      "memory usage: 691.1+ KB\n",
      "None\n"
     ]
    }
   ],
   "source": [
    "#################Head of the whole of idfile1#################\n",
    "print('\\n')\n",
    "print('\\n')\n",
    "print('\\n')\n",
    "cog_df= pd.read_csv(idfile1, header=None)\n",
    "print(cog_df.head())\n",
    "\n",
    "#print(cog_df.index)\n",
    "#print(cog_df.columns)\n",
    "#print(cog_df.shape)\n",
    "#print(type(cog_df))\n",
    "#print(type(cog_df.index))\n",
    "#print(cog_df.iloc[:5,:])   #First 5\n",
    "#print(cog_df.iloc[-5:,:])  #Last 5\n",
    "print(cog_df.info())"
   ]
  },
  {
   "cell_type": "markdown",
   "metadata": {},
   "source": [
    "# IDFile2 - pandas import and creating DataFrame\n",
    "** idfile2 = '../../data/ryno_project/LMO.indiv.MAGs.merged.EC.tsv' **\n"
   ]
  },
  {
   "cell_type": "code",
   "execution_count": 14,
   "metadata": {
    "collapsed": false
   },
   "outputs": [
    {
     "name": "stdout",
     "output_type": "stream",
     "text": [
      "\n",
      "\n",
      "\n",
      "\n",
      "\n",
      "\n",
      "../../data/ryno_project/LMO.indiv.MAGs.merged.EC.tsv\n",
      "                                          0\n",
      "0    120322-bin51|PROKKA_MOD_00001\\t5.4.3.8\n",
      "1    120322-bin51|PROKKA_MOD_00002\\t6.3.5.1\n",
      "2  120322-bin51|PROKKA_MOD_00006\\t5.4.99.26\n",
      "3   120322-bin51|PROKKA_MOD_00010\\t1.5.1.20\n",
      "4    120322-bin51|PROKKA_MOD_00015\\t6.1.1.4\n",
      "<class 'pandas.core.frame.DataFrame'>\n",
      "RangeIndex: 57687 entries, 0 to 57686\n",
      "Data columns (total 1 columns):\n",
      "0    57687 non-null object\n",
      "dtypes: object(1)\n",
      "memory usage: 450.8+ KB\n",
      "None\n",
      "\n",
      "\n",
      "\n",
      "\n",
      "\n",
      "\n"
     ]
    }
   ],
   "source": [
    "#################Head of the whole of idfile2#################\n",
    "print('\\n')\n",
    "print('\\n')\n",
    "print('\\n')\n",
    "print(str(idfile2))\n",
    "ec_df= pd.read_csv(idfile2, header=None)\n",
    "print(ec_df.head())\n",
    "\n",
    "#print(ec_df.index)\n",
    "#print(ec_df.columns)\n",
    "#print(ec_df.shape)\n",
    "#print(type(ec_df))\n",
    "#print(type(ec_df.index))\n",
    "#print(ec_df.iloc[:5,:])   #First 5\n",
    "#print(ec_df.iloc[-5:,:])  #Last 5\n",
    "print(ec_df.info())\n",
    "print('\\n')\n",
    "print('\\n')\n",
    "print('\\n')"
   ]
  },
  {
   "cell_type": "markdown",
   "metadata": {},
   "source": [
    "# IDFile3 - pandas import and creating DataFrame\n",
    "** idfile3 = '../../data/ryno_project/LMO.indiv.MAGs.merged.PFAM.tsv' **\n"
   ]
  },
  {
   "cell_type": "code",
   "execution_count": null,
   "metadata": {
    "collapsed": false
   },
   "outputs": [],
   "source": [
    "#################Head of the whole of idfile3#################\n",
    "print(str(idfile3))\n",
    "pfam_df= pd.read_csv(idfile3, header=None)\n",
    "print(pfam_df.head())\n",
    "\n",
    "#print(pfam_df.index)\n",
    "#print(pfam_df.columns)\n",
    "#print(pfam_df.shape)\n",
    "#print(type(pfam_df))\n",
    "#print(type(pfam_df.index))\n",
    "#print(pfam_df.iloc[:5,:])   #First 5\n",
    "#print(pfam_df.iloc[-5:,:])  #Last 5\n",
    "print(pfam_df.info())\n",
    "print('\\n')\n",
    "print('\\n')\n",
    "print('\\n')"
   ]
  },
  {
   "cell_type": "markdown",
   "metadata": {},
   "source": [
    "# IDFile4 - pandas import and creating DataFrame\n",
    "** idfile4 = '../../data/ryno_project/LMO.indiv.MAGs.merged.TIGRFAM.tsv' **"
   ]
  },
  {
   "cell_type": "code",
   "execution_count": null,
   "metadata": {
    "collapsed": false
   },
   "outputs": [],
   "source": [
    "#################Head of the whole of idfile4#################\n",
    "print(str(idfile4))\n",
    "tfam_df= pd.read_table(idfile4, header=None)\n",
    "print(tfam_df.head())\n",
    "\n",
    "#print(tfam_df.index)\n",
    "#print(tfam_df.columns)\n",
    "#print(tfam_df.shape)\n",
    "#print(type(tfam_df))\n",
    "#print(type(tfam_df.index))\n",
    "#print(tfam_df.iloc[:5,:])   #First 5\n",
    "#print(tfam_df.iloc[-5:,:])  #Last 5\n",
    "print(tfam_df.info())\n",
    "print('\\n')\n",
    "print('\\n')\n",
    "print('\\n')"
   ]
  },
  {
   "cell_type": "markdown",
   "metadata": {},
   "source": [
    "## End of the loading of data file into the dataframes "
   ]
  },
  {
   "cell_type": "markdown",
   "metadata": {},
   "source": [
    "# Functions"
   ]
  },
  {
   "cell_type": "markdown",
   "metadata": {},
   "source": [
    "### Define count_entries()"
   ]
  },
  {
   "cell_type": "code",
   "execution_count": null,
   "metadata": {
    "collapsed": true
   },
   "outputs": [],
   "source": [
    "def concat_col(df, column1, column2):\n",
    "    \"\"\"Return a concatenated MAG and Gene list/dictionary for easy association \n",
    "    of gene expression to label? counts of \n",
    "    occurrences as value for each key.\"\"\"\n",
    "    # Initialize an empty dictionary: langs_count\n",
    "    col_combo = {}\n",
    "    # Extract column from DataFrame: col\n",
    "    col1 = df[column1]\n",
    "    col2 = df[column2]\n",
    "    \n",
    "    col_join = col1 + '|' + col2\n",
    "    col_combo = dict(col_join)\n",
    "    return(col_combo)\n"
   ]
  },
  {
   "cell_type": "markdown",
   "metadata": {},
   "source": [
    "### Define addMAGGene"
   ]
  },
  {
   "cell_type": "code",
   "execution_count": null,
   "metadata": {
    "collapsed": true
   },
   "outputs": [],
   "source": [
    "def addMAGGene(new_df, dict_of_col):\n",
    "    \"\"\"Return a dataframe with the addition of the Column\n",
    "    with the combined MAG and Gene label\"\"\"\n",
    "    #print(type(dict_of_col))\n",
    "    add_df = pd.Series(dict_of_col)\n",
    "    \n",
    "    new_df.insert(0, 'MAGGene_label', add_df)\n",
    "    #print(new_df.head())\n",
    "    return(new_df)"
   ]
  },
  {
   "cell_type": "markdown",
   "metadata": {},
   "source": [
    "# Gene Expression - raw counts file"
   ]
  },
  {
   "cell_type": "markdown",
   "metadata": {},
   "source": [
    "** Variables **"
   ]
  },
  {
   "cell_type": "code",
   "execution_count": null,
   "metadata": {
    "collapsed": true
   },
   "outputs": [],
   "source": [
    "col_name1 = 'MAG' #input('Please enter the column1 name:')\n",
    "col_name2 = 'Gene' #input('Please enter the column2 name:')"
   ]
  },
  {
   "cell_type": "markdown",
   "metadata": {},
   "source": [
    "** Function Calling **"
   ]
  },
  {
   "cell_type": "code",
   "execution_count": null,
   "metadata": {
    "collapsed": false
   },
   "outputs": [],
   "source": [
    "# Call concat_col(): result\n",
    "dict_MAGGene = concat_col(raw_df, col_name1, col_name2)\n",
    "\n",
    "## Call addMAGGene(): new_df\n",
    "new_df = addMAGGene(raw_df, dict_MAGGene)\n",
    "print(new_df.head())"
   ]
  },
  {
   "cell_type": "markdown",
   "metadata": {},
   "source": [
    "## Create a New Data frame with the sample as the DateTimeindex and columns as the MAGGene ids\n",
    "\n",
    "1st - make the sample colummns into a datetime index for the new dataframe.\n",
    "2nd - assing the datetime row index in newer dataframe the gene exp values from the old dataframe. \n",
    "3rd - Make into an array\n",
    "4th - assigning the newer dataframe the MAGGene id as column labels.\n"
   ]
  },
  {
   "cell_type": "code",
   "execution_count": null,
   "metadata": {
    "collapsed": false
   },
   "outputs": [],
   "source": [
    "##Experimenting\n",
    "sample_id = new_df.iloc[:,3::]\n",
    "sample_id.index= new_df['MAGGene_label']\n",
    "print(sample_id.head())\n",
    "print(type(sample_id))\n",
    "invert_df = sample_id.transpose()\n",
    "print(type(invert_df))"
   ]
  },
  {
   "cell_type": "markdown",
   "metadata": {},
   "source": [
    "** MAGGene labels into a list to be used to label columns on ts_matrix dataframe **"
   ]
  },
  {
   "cell_type": "code",
   "execution_count": null,
   "metadata": {
    "collapsed": false
   },
   "outputs": [],
   "source": [
    "time_index = invert_df.index\n",
    "#print(time_index)\n",
    "new_tindex = pd.to_datetime(time_index, yearfirst=True)\n",
    "invert_df.index = new_tindex\n",
    "print(invert_df.head())"
   ]
  },
  {
   "cell_type": "markdown",
   "metadata": {},
   "source": [
    "# Time series of gene expression"
   ]
  },
  {
   "cell_type": "code",
   "execution_count": null,
   "metadata": {
    "collapsed": false
   },
   "outputs": [],
   "source": [
    "plt.scatter(invert_df)\n",
    "plt.show()\n"
   ]
  },
  {
   "cell_type": "code",
   "execution_count": null,
   "metadata": {
    "collapsed": false
   },
   "outputs": [],
   "source": [
    "#####Numpy array\n",
    "ts_matrix= invert_df.values\n",
    "print(type(ts_matrix))\n",
    "print(ts_matrix)\n",
    "print(ts_matrix.shape)\n",
    "plt.plot(ts_matrix)\n",
    "plt.show()"
   ]
  },
  {
   "cell_type": "code",
   "execution_count": null,
   "metadata": {
    "collapsed": true
   },
   "outputs": [],
   "source": []
  },
  {
   "cell_type": "markdown",
   "metadata": {},
   "source": [
    "** Assigning the ts_matrix columns the list of column labels **"
   ]
  },
  {
   "cell_type": "code",
   "execution_count": null,
   "metadata": {
    "collapsed": true
   },
   "outputs": [],
   "source": [
    "#ts_matrix.columns= new_col_id\n",
    "#print(ts_matrix.columns)\n",
    "#ts_matrix= zip(sample_id, new_col_id)\n",
    "#print(dict(ts_matrix))"
   ]
  },
  {
   "cell_type": "markdown",
   "metadata": {},
   "source": [
    "# METAdata DataFrame"
   ]
  },
  {
   "cell_type": "code",
   "execution_count": null,
   "metadata": {
    "collapsed": false
   },
   "outputs": [],
   "source": [
    "meta_df.columns"
   ]
  },
  {
   "cell_type": "markdown",
   "metadata": {},
   "source": [
    "**Parsing on the Year Month and Day Columns. To get the correct Date format **"
   ]
  },
  {
   "cell_type": "code",
   "execution_count": null,
   "metadata": {
    "collapsed": false
   },
   "outputs": [],
   "source": [
    "meta_df1 = pd.read_table(file3, parse_dates=[[2, 3, 4]],index_col='Year_Month_Day' ) #,parse_dates=[] index_col='Date'\n",
    "#print(df.head())\n",
    "print(meta_df1.info())"
   ]
  },
  {
   "cell_type": "code",
   "execution_count": null,
   "metadata": {
    "collapsed": false
   },
   "outputs": [],
   "source": [
    "###################################Full Dataset###############\n",
    "#Removing the redunant Date column as it is not the correct format\n",
    "meta_df1 = meta_df1.iloc[:,2::]\n",
    "print(meta_df1.head(10))\n",
    "print(meta_df1.info())"
   ]
  },
  {
   "cell_type": "markdown",
   "metadata": {},
   "source": [
    "** Remove the space in the column names **"
   ]
  },
  {
   "cell_type": "code",
   "execution_count": null,
   "metadata": {
    "collapsed": false
   },
   "outputs": [],
   "source": [
    "print(meta_df1.columns)\n",
    "space = [i.strip(' ') for i in meta_df1.columns]\n",
    "print('\\n')\n",
    "print('\\n')\n",
    "print(space)\n",
    "meta_df1.columns = space\n",
    "print('\\n')\n",
    "print('\\n')\n",
    "print('\\n')\n",
    "print('New column names without spaces')\n",
    "print('\\n')\n",
    "print(meta_df1.columns)"
   ]
  },
  {
   "cell_type": "code",
   "execution_count": null,
   "metadata": {
    "collapsed": true
   },
   "outputs": [],
   "source": []
  },
  {
   "cell_type": "markdown",
   "metadata": {},
   "source": [
    "# Temperature"
   ]
  },
  {
   "cell_type": "code",
   "execution_count": null,
   "metadata": {
    "collapsed": false
   },
   "outputs": [],
   "source": [
    "temperature = meta_df1['Temperature'].interpolate('linear')\n",
    "plt.plot(temperature, color='red', label='Temperature')\n",
    "plt.xticks(rotation=60)\n",
    "plt.show()"
   ]
  },
  {
   "cell_type": "markdown",
   "metadata": {},
   "source": [
    "# Salinity"
   ]
  },
  {
   "cell_type": "code",
   "execution_count": null,
   "metadata": {
    "collapsed": false
   },
   "outputs": [],
   "source": [
    "salinity = meta_df1['Salinity'].interpolate('linear')\n",
    "plt.plot(salinity, color='blue', label='Salinity')\n",
    "plt.xticks(rotation=60)\n",
    "plt.show()"
   ]
  },
  {
   "cell_type": "markdown",
   "metadata": {},
   "source": [
    "# Nitrate"
   ]
  },
  {
   "cell_type": "code",
   "execution_count": null,
   "metadata": {
    "collapsed": false
   },
   "outputs": [],
   "source": [
    "nitrate = meta_df1['Nitrate']\n",
    "plt.plot(nitrate, color='blue', label='Nitrate')\n",
    "plt.xticks(rotation=60)\n",
    "plt.show()"
   ]
  },
  {
   "cell_type": "markdown",
   "metadata": {},
   "source": [
    "# Phosphate"
   ]
  },
  {
   "cell_type": "code",
   "execution_count": null,
   "metadata": {
    "collapsed": false
   },
   "outputs": [],
   "source": [
    "phosphate = meta_df1['Phosphate']\n",
    "plt.plot(phosphate, color='blue', label='Phosphate')\n",
    "plt.xticks(rotation=60)\n",
    "plt.show()"
   ]
  },
  {
   "cell_type": "markdown",
   "metadata": {},
   "source": [
    "# Chla"
   ]
  },
  {
   "cell_type": "code",
   "execution_count": null,
   "metadata": {
    "collapsed": false
   },
   "outputs": [],
   "source": [
    "chla = meta_df1['Chla']\n",
    "plt.plot(chla, color='green', label='Chla')\n",
    "plt.xticks(rotation=60)\n",
    "plt.show()"
   ]
  },
  {
   "cell_type": "code",
   "execution_count": null,
   "metadata": {
    "collapsed": false
   },
   "outputs": [],
   "source": [
    "#####################Temperature and salinity#####################\n",
    "sns.lmplot(x='Salinity', y='Temperature', data=meta_df)\n",
    "plt.show()\n"
   ]
  },
  {
   "cell_type": "markdown",
   "metadata": {},
   "source": [
    "** Chla  Nitrate  Phosphate  Silicate  Ammonium         DOC TotalN **"
   ]
  },
  {
   "cell_type": "code",
   "execution_count": null,
   "metadata": {
    "collapsed": false
   },
   "outputs": [],
   "source": [
    "sns.jointplot(x='Chla', y='Nitrate', data=meta_df1, kind='kde')\n",
    "sns.jointplot(x='Nitrate', y='Phosphate', data=meta_df1, kind='kde')\n",
    "sns.jointplot(x='Phosphate', y='Silicate', data=meta_df1, kind='kde')\n",
    "sns.jointplot(x='Nitrate', y='Ammonium', data=meta_df1, kind='kde')\n",
    "sns.jointplot(x='Chla', y='DOC', data=meta_df1, kind='kde')\n",
    "sns.jointplot(x='DOC', y='TotalN', data=meta_df1, kind='kde')\n",
    "plt.show()\n"
   ]
  },
  {
   "cell_type": "code",
   "execution_count": null,
   "metadata": {
    "collapsed": false
   },
   "outputs": [],
   "source": [
    "levels_df= meta_df1.iloc[:,0:2].interpolate('linear')\n",
    "print(levels_df)"
   ]
  },
  {
   "cell_type": "code",
   "execution_count": null,
   "metadata": {
    "collapsed": false
   },
   "outputs": [],
   "source": [
    "sns.pairplot(levels_df)\n",
    "plt.show()"
   ]
  },
  {
   "cell_type": "markdown",
   "metadata": {},
   "source": [
    "# Nitrogen"
   ]
  },
  {
   "cell_type": "code",
   "execution_count": null,
   "metadata": {
    "collapsed": false
   },
   "outputs": [],
   "source": [
    "nitro_df= meta_df1[['Nitrate', 'Ammonium', 'DOC', 'TotalN']].interpolate('linear')\n",
    "organic_df= meta_df1[['DOC', 'TotalN']].interpolate('linear')\n",
    "#print(type(nitro_df))\n",
    "print(nitro_df.head())\n",
    "print(nitro_df.tail())\n",
    "print(organic_df.head())\n",
    "print(organic_df.tail(100))"
   ]
  },
  {
   "cell_type": "code",
   "execution_count": null,
   "metadata": {
    "collapsed": false
   },
   "outputs": [],
   "source": [
    "nitro_df.plot(kind= 'line')\n",
    "DOC= meta_df1['DOC'].interpolate('linear')\n",
    "\n",
    "\n",
    "plt.subplot(4, 1, 1)\n",
    "plt.plot(DOC, 'red')\n",
    "plt.title('DOC')\n",
    "plt.xticks(rotation=60)\n",
    "\n",
    "view = DOC['2012-06':'2012-10']\n",
    "plt.subplot(4, 1, 2)\n",
    "plt.plot(view, 'green')\n",
    "plt.title('DOC')\n",
    "plt.xticks(rotation=60)\n",
    "\n",
    "totaln= meta_df1['TotalN'].interpolate('linear')\n",
    "plt.subplot(4, 1, 4)\n",
    "plt.plot(totaln, 'blue')\n",
    "plt.xlabel('Date')\n",
    "plt.xticks(rotation=60)\n",
    "plt.title('TotalN')\n",
    "\n",
    "\n",
    "#organic_df.subplot(kind= 'line')\n",
    "sns.pairplot(nitro_df)\n",
    "plt.tight_layout()\n",
    "plt.show()"
   ]
  },
  {
   "cell_type": "code",
   "execution_count": null,
   "metadata": {
    "collapsed": true
   },
   "outputs": [],
   "source": []
  },
  {
   "cell_type": "code",
   "execution_count": null,
   "metadata": {
    "collapsed": false
   },
   "outputs": [],
   "source": [
    "chem_df= meta_df1.iloc[:,2:9].interpolate('linear')\n",
    "print(chem_df.head())\n"
   ]
  },
  {
   "cell_type": "code",
   "execution_count": null,
   "metadata": {
    "collapsed": false
   },
   "outputs": [],
   "source": [
    "sns.pairplot(chem_df)\n",
    "plt.show()"
   ]
  },
  {
   "cell_type": "markdown",
   "metadata": {},
   "source": [
    "# Generates No of gene per a MAG count"
   ]
  },
  {
   "cell_type": "code",
   "execution_count": null,
   "metadata": {
    "collapsed": false
   },
   "outputs": [],
   "source": [
    "out_df= raw_df.groupby('MAG')['Gene'].count()\n",
    "print(out_df)\n",
    "out_df.to_csv('../my_results/output_MAGGene_counts.csv')\n",
    "\n"
   ]
  },
  {
   "cell_type": "code",
   "execution_count": null,
   "metadata": {
    "collapsed": false
   },
   "outputs": [],
   "source": [
    "\n",
    "plt.plot(x= out_df, kind='hist')\n",
    "plt.show()"
   ]
  },
  {
   "cell_type": "markdown",
   "metadata": {},
   "source": [
    "# Generates No of MAG per a Gene count"
   ]
  },
  {
   "cell_type": "code",
   "execution_count": null,
   "metadata": {
    "collapsed": false
   },
   "outputs": [],
   "source": [
    "out2_df = raw_df.groupby('Gene')['MAG'].count()\n",
    "print(out2_df)\n",
    "out2_df.to_csv('../my_results/output2_MAGGene_counts.csv')"
   ]
  },
  {
   "cell_type": "code",
   "execution_count": null,
   "metadata": {
    "collapsed": true
   },
   "outputs": [],
   "source": []
  },
  {
   "cell_type": "code",
   "execution_count": null,
   "metadata": {},
   "outputs": [],
   "source": []
  },
  {
   "cell_type": "code",
   "execution_count": null,
   "metadata": {},
   "outputs": [],
   "source": []
  }
 ],
 "metadata": {
  "anaconda-cloud": {},
  "kernelspec": {
   "display_name": "Python 3",
   "language": "python",
   "name": "python3"
  },
  "language_info": {
   "codemirror_mode": {
    "name": "ipython",
    "version": 3
   },
   "file_extension": ".py",
   "mimetype": "text/x-python",
   "name": "python",
   "nbconvert_exporter": "python",
   "pygments_lexer": "ipython3",
   "version": "3.7.3"
  }
 },
 "nbformat": 4,
 "nbformat_minor": 2
}
